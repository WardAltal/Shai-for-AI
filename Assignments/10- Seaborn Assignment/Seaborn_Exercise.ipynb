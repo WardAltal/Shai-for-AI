{
  "cells": [
    {
      "cell_type": "markdown",
      "metadata": {
        "id": "PIJB5n_6Hogq"
      },
      "source": [
        "# **Seaborn Visualization Exercises**\n",
        "\n",
        "#Use the seaborn dataset \"titanic\"\n",
        "\n",
        "# EX 1 - Distribution Plots\n",
        "\n",
        "Create a histogram of a given dataset using `histplot`."
      ]
    },
    {
      "cell_type": "code",
      "execution_count": null,
      "metadata": {
        "id": "0MCbjRQYHXVA"
      },
      "outputs": [],
      "source": [
        "import seaborn as sns\n",
        "import matplotlib.pyplot as plt\n",
        "\n",
        "# Load Titanic dataset\n",
        "titanic = sns.load_dataset(\"titanic\")\n",
        "\n",
        "# Create histogram for the 'age' column\n",
        "plt.figure(figsize=(8, 6))\n",
        "sns.histplot(data=titanic, x=\"age\", bins=30, kde=True)\n",
        "plt.title(\"Histogram of Titanic Passengers' Age\")\n",
        "plt.xlabel(\"Age\")\n",
        "plt.ylabel(\"Frequency\")\n",
        "plt.show()"
      ]
    },
    {
      "cell_type": "markdown",
      "metadata": {
        "id": "q0-xvy5aIFsZ"
      },
      "source": [
        "Generate a KDE plot of the same dataset using `kdeplot`."
      ]
    },
    {
      "cell_type": "code",
      "execution_count": null,
      "metadata": {
        "id": "8l53V9H_ILQX"
      },
      "outputs": [],
      "source": [
        "import seaborn as sns\n",
        "import matplotlib.pyplot as plt\n",
        "\n",
        "titanic = sns.load_dataset(\"titanic\")\n",
        "\n",
        "# Create KDE plot for the 'age' column\n",
        "plt.figure(figsize=(8, 6))\n",
        "sns.kdeplot(data=titanic, x=\"age\", fill=True)\n",
        "plt.title(\"KDE Plot of Titanic Passengers' Age\")\n",
        "plt.xlabel(\"Age\")\n",
        "plt.ylabel(\"Density\")\n",
        "plt.show()"
      ]
    },
    {
      "cell_type": "markdown",
      "metadata": {
        "id": "ivUpwtLfIkSo"
      },
      "source": [
        "Use `jointplot` to display the relationship between two numerical variables."
      ]
    },
    {
      "cell_type": "code",
      "execution_count": null,
      "metadata": {
        "id": "RE8kUgrzIsQh"
      },
      "outputs": [],
      "source": [
        "import seaborn as sns\n",
        "import matplotlib.pyplot as plt\n",
        "\n",
        "titanic = sns.load_dataset(\"titanic\")\n",
        "\n",
        "# Jointplot of Age vs Fare\n",
        "sns.jointplot(data=titanic, x=\"age\", y=\"fare\", kind=\"scatter\")\n",
        "\n",
        "plt.show()"
      ]
    },
    {
      "cell_type": "markdown",
      "metadata": {
        "id": "orluzbw_Itcp"
      },
      "source": [
        "Create a `pairplot` to visualize pairwise relationships in a dataset."
      ]
    },
    {
      "cell_type": "code",
      "execution_count": null,
      "metadata": {
        "id": "CYt4Ja9QIx8_"
      },
      "outputs": [],
      "source": [
        "import seaborn as sns\n",
        "import matplotlib.pyplot as plt\n",
        "\n",
        "titanic = sns.load_dataset(\"titanic\")\n",
        "\n",
        "# Select a subset of numerical columns\n",
        "num_cols = [\"age\", \"fare\", \"sibsp\", \"parch\"]\n",
        "\n",
        "# Create pairplot\n",
        "sns.pairplot(data=titanic[num_cols].dropna())\n",
        "\n",
        "plt.show()"
      ]
    },
    {
      "cell_type": "markdown",
      "metadata": {
        "id": "YaCZpC5TIy-3"
      },
      "source": [
        "\n",
        "## EX 2 - Categorical Data Plots\n",
        "Create a `barplot` to show the average values of a categorical variable."
      ]
    },
    {
      "cell_type": "code",
      "execution_count": null,
      "metadata": {
        "id": "woBxzNh-I513"
      },
      "outputs": [],
      "source": [
        "import seaborn as sns\n",
        "import matplotlib.pyplot as plt\n",
        "\n",
        "titanic = sns.load_dataset(\"titanic\")\n",
        "\n",
        "# Create barplot of average age by class\n",
        "plt.figure(figsize=(8,6))\n",
        "sns.barplot(data=titanic, x=\"class\", y=\"age\", ci=None)\n",
        "plt.title(\"Average Age by Passenger Class\")\n",
        "plt.xlabel(\"Passenger Class\")\n",
        "plt.ylabel(\"Average Age\")\n",
        "plt.show()\n"
      ]
    },
    {
      "cell_type": "markdown",
      "metadata": {
        "id": "LoxLn6i_I6Mn"
      },
      "source": [
        "Generate a `countplot` to show the frequency of different categories."
      ]
    },
    {
      "cell_type": "code",
      "execution_count": null,
      "metadata": {
        "id": "VVWsWVEMJJIX"
      },
      "outputs": [],
      "source": [
        "import seaborn as sns\n",
        "import matplotlib.pyplot as plt\n",
        "\n",
        "titanic = sns.load_dataset(\"titanic\")\n",
        "\n",
        "# Create countplot of passenger classes\n",
        "plt.figure(figsize=(8,6))\n",
        "sns.countplot(data=titanic, x=\"class\")\n",
        "plt.title(\"Passenger Count by Class\")\n",
        "plt.xlabel(\"Passenger Class\")\n",
        "plt.ylabel(\"Count\")\n",
        "plt.show()\n"
      ]
    },
    {
      "cell_type": "markdown",
      "metadata": {
        "id": "8k_l2M-ZJJxI"
      },
      "source": [
        "Use `boxplot` to visualize the distribution of numerical data across categories."
      ]
    },
    {
      "cell_type": "code",
      "execution_count": null,
      "metadata": {
        "id": "D1ZFMWVCJclI"
      },
      "outputs": [],
      "source": [
        "import seaborn as sns\n",
        "import matplotlib.pyplot as plt\n",
        "\n",
        "titanic = sns.load_dataset(\"titanic\")\n",
        "\n",
        "# Boxplot of age distribution across passenger classes\n",
        "plt.figure(figsize=(8,6))\n",
        "sns.boxplot(data=titanic, x=\"class\", y=\"age\")\n",
        "plt.title(\"Age Distribution by Passenger Class\")\n",
        "plt.xlabel(\"Passenger Class\")\n",
        "plt.ylabel(\"Age\")\n",
        "plt.show()\n"
      ]
    },
    {
      "cell_type": "markdown",
      "metadata": {
        "id": "dkzUdpY-JdOf"
      },
      "source": [
        "Create a `violinplot` to combine KDE and boxplot visualizations."
      ]
    },
    {
      "cell_type": "code",
      "execution_count": null,
      "metadata": {
        "id": "HxAjwPTxJiXn"
      },
      "outputs": [],
      "source": [
        "import seaborn as sns\n",
        "import matplotlib.pyplot as plt\n",
        "\n",
        "titanic = sns.load_dataset(\"titanic\")\n",
        "\n",
        "# Violinplot of age across passenger classes\n",
        "plt.figure(figsize=(8,6))\n",
        "sns.violinplot(data=titanic, x=\"class\", y=\"age\")\n",
        "plt.title(\"Age Distribution by Passenger Class (Violinplot)\")\n",
        "plt.xlabel(\"Passenger Class\")\n",
        "plt.ylabel(\"Age\")\n",
        "plt.show()\n"
      ]
    },
    {
      "cell_type": "markdown",
      "metadata": {
        "id": "0f3jX9vaJi_f"
      },
      "source": [
        "Display individual data points in a category using `stripplot`."
      ]
    },
    {
      "cell_type": "code",
      "execution_count": null,
      "metadata": {
        "id": "QLrgP9NeJmzH"
      },
      "outputs": [],
      "source": [
        "import seaborn as sns\n",
        "import matplotlib.pyplot as plt\n",
        "\n",
        "titanic = sns.load_dataset(\"titanic\")\n",
        "\n",
        "# Stripplot of passenger ages across classes\n",
        "plt.figure(figsize=(8,6))\n",
        "sns.stripplot(data=titanic, x=\"class\", y=\"age\", jitter=True, alpha=0.6)\n",
        "plt.title(\"Passenger Age by Class (Stripplot)\")\n",
        "plt.xlabel(\"Passenger Class\")\n",
        "plt.ylabel(\"Age\")\n",
        "plt.show()\n"
      ]
    },
    {
      "cell_type": "markdown",
      "metadata": {
        "id": "qFMx_40-JnNb"
      },
      "source": [
        "Use `swarmplot` to create a more readable version of `stripplot`."
      ]
    },
    {
      "cell_type": "code",
      "execution_count": null,
      "metadata": {
        "id": "_0kWistIJq1P"
      },
      "outputs": [],
      "source": [
        "import seaborn as sns\n",
        "import matplotlib.pyplot as plt\n",
        "\n",
        "titanic = sns.load_dataset(\"titanic\")\n",
        "\n",
        "# Swarmplot of passenger ages across classes\n",
        "plt.figure(figsize=(8,6))\n",
        "sns.swarmplot(data=titanic, x=\"class\", y=\"age\", size=4, alpha=0.7)\n",
        "plt.title(\"Passenger Age by Class (Swarmplot)\")\n",
        "plt.xlabel(\"Passenger Class\")\n",
        "plt.ylabel(\"Age\")\n",
        "plt.show()\n"
      ]
    },
    {
      "cell_type": "markdown",
      "metadata": {
        "id": "X0UfKiLtJrX3"
      },
      "source": [
        "# EX 3 - Matrix Plots\n",
        "Create a heatmap to display correlations in a dataset using `heatmap`."
      ]
    },
    {
      "cell_type": "code",
      "execution_count": null,
      "metadata": {
        "id": "8lGADhOyJzWy"
      },
      "outputs": [],
      "source": [
        "import seaborn as sns\n",
        "import matplotlib.pyplot as plt\n",
        "\n",
        "titanic = sns.load_dataset(\"titanic\")\n",
        "\n",
        "# Select only numeric columns for correlation\n",
        "numeric_data = titanic.select_dtypes(include=[\"float64\", \"int64\"])\n",
        "\n",
        "# Compute correlation matrix\n",
        "corr = numeric_data.corr()\n",
        "\n",
        "# Create heatmap\n",
        "plt.figure(figsize=(10,6))\n",
        "sns.heatmap(corr, annot=True, cmap=\"coolwarm\", fmt=\".2f\", linewidths=0.5)\n",
        "plt.title(\"Correlation Heatmap - Titanic Dataset\")\n",
        "plt.show()\n"
      ]
    },
    {
      "cell_type": "markdown",
      "metadata": {
        "id": "FacY16dLJzpf"
      },
      "source": [
        "Use `clustermap` to cluster data based on similarity."
      ]
    },
    {
      "cell_type": "code",
      "execution_count": null,
      "metadata": {
        "id": "gyoQYEIwJ4mG"
      },
      "outputs": [],
      "source": [
        "import seaborn as sns\n",
        "import matplotlib.pyplot as plt\n",
        "\n",
        "titanic = sns.load_dataset(\"titanic\")\n",
        "\n",
        "# Keep only numeric columns\n",
        "numeric_data = titanic.select_dtypes(include=[\"float64\", \"int64\"])\n",
        "\n",
        "# Compute correlation matrix\n",
        "corr = numeric_data.corr()\n",
        "\n",
        "# Create clustered heatmap\n",
        "sns.clustermap(corr, annot=True, cmap=\"coolwarm\", fmt=\".2f\", linewidths=0.5)\n",
        "plt.suptitle(\"Clustered Correlation Heatmap - Titanic Dataset\", y=1.02)\n",
        "plt.show()\n"
      ]
    },
    {
      "cell_type": "markdown",
      "metadata": {
        "id": "Q_yqjNzNJ5Cb"
      },
      "source": [
        "# EX 4 - Grids\n",
        "Implement a `PairGrid` to customize pairwise plots."
      ]
    },
    {
      "cell_type": "code",
      "execution_count": null,
      "metadata": {
        "id": "elKlZYRVKFLY"
      },
      "outputs": [],
      "source": [
        "import seaborn as sns\n",
        "import matplotlib.pyplot as plt\n",
        "import numpy as np\n",
        "import pandas as pd\n",
        "\n",
        "titanic = sns.load_dataset(\"titanic\")\n",
        "\n",
        "# Choose a handful of numeric variables (pclass is numeric)\n",
        "vars_of_interest = [\"age\", \"fare\", \"pclass\", \"sibsp\", \"parch\"]\n",
        "df = titanic[vars_of_interest + [\"survived\"]].dropna()\n",
        "\n",
        "g = sns.PairGrid(\n",
        "    df,\n",
        "    vars=vars_of_interest,\n",
        "    hue=\"survived\",\n",
        "    diag_sharey=False,\n",
        "    corner=False,              # show both triangles; set True to show lower only\n",
        "    palette={0: \"#d62728\", 1: \"#2ca02c\"}  # red for not-survived, green for survived\n",
        ")\n",
        "\n",
        "# Lower triangle: scatter\n",
        "g.map_lower(\n",
        "    sns.scatterplot,\n",
        "    s=25, alpha=0.6, linewidth=0\n",
        ")\n",
        "\n",
        "# Diagonal: histograms (per hue)\n",
        "g.map_diag(\n",
        "    sns.histplot,\n",
        "    bins=24, stat=\"density\", alpha=0.8, common_norm=False\n",
        ")\n",
        "\n",
        "# Upper triangle: filled KDE contours\n",
        "g.map_upper(\n",
        "    sns.kdeplot,\n",
        "    fill=True, thresh=0.05, levels=6, alpha=0.6\n",
        ")\n",
        "\n",
        "def corr_label(x, y, **kws):\n",
        "    r = np.corrcoef(x, y)[0, 1]\n",
        "    ax = plt.gca()\n",
        "    ax.annotate(f\"r = {r:.2f}\", xy=(0.08, 0.86), xycoords=ax.transAxes, fontsize=11, weight=\"bold\")\n",
        "\n",
        "g.map_upper(corr_label)\n",
        "\n",
        "g.add_legend(title=\"Survived\")\n",
        "for ax in g.axes.flat:\n",
        "    if ax is not None:\n",
        "        ax.grid(True, linestyle=\"--\", linewidth=0.5, alpha=0.3)\n",
        "\n",
        "g.fig.suptitle(\"Titanic — Pairwise Relationships (Hue = Survived)\", fontsize=16, y=1.02)\n",
        "plt.show()\n"
      ]
    },
    {
      "cell_type": "markdown",
      "metadata": {
        "id": "V1va1X1aJ_xL"
      },
      "source": [
        "Use `FacetGrid` to create multiple subplots based on a categorical variable."
      ]
    },
    {
      "cell_type": "code",
      "execution_count": null,
      "metadata": {
        "id": "hBVIUxg_J_gj"
      },
      "outputs": [],
      "source": [
        "import seaborn as sns\n",
        "import matplotlib.pyplot as plt\n",
        "\n",
        "titanic = sns.load_dataset(\"titanic\")\n",
        "\n",
        "# Example: Compare age distributions across sex and survival\n",
        "g = sns.FacetGrid(\n",
        "    data=titanic,\n",
        "    col=\"sex\",        # separate plots for male/female\n",
        "    row=\"survived\",   # separate plots for survived = 0/1\n",
        "    margin_titles=True\n",
        ")\n",
        "\n",
        "# Map a histogram of age to each facet\n",
        "g.map(sns.histplot, \"age\", bins=20, kde=False, color=\"steelblue\")\n",
        "\n",
        "# Adjust plot\n",
        "g.set_axis_labels(\"Age\", \"Count\")\n",
        "g.set_titles(col_template=\"Sex: {col_name}\", row_template=\"Survived: {row_name}\")\n",
        "plt.subplots_adjust(top=0.85)\n",
        "g.fig.suptitle(\"Titanic Age Distribution by Sex and Survival\", fontsize=16)\n",
        "\n",
        "plt.show()\n"
      ]
    },
    {
      "cell_type": "markdown",
      "metadata": {
        "id": "lNXoQ8EsKGh8"
      },
      "source": [
        "Implement a `JointGrid` to create a customized joint distribution plot."
      ]
    },
    {
      "cell_type": "code",
      "execution_count": null,
      "metadata": {
        "id": "vt3L7lBTKJtT"
      },
      "outputs": [],
      "source": [
        "import seaborn as sns\n",
        "import matplotlib.pyplot as plt\n",
        "import numpy as np\n",
        "import pandas as pd\n",
        "\n",
        "titanic = sns.load_dataset(\"titanic\")\n",
        "df = titanic[[\"age\", \"fare\", \"survived\"]].dropna()\n",
        "\n",
        "palette = {0: \"#d62728\", 1: \"#2ca02c\"}  # red = not survived, green = survived\n",
        "labels  = {0: \"Not Survived\", 1: \"Survived\"}\n",
        "\n",
        "g = sns.JointGrid(\n",
        "    data=df,\n",
        "    x=\"age\", y=\"fare\",\n",
        "    height=7,              # figure size in inches\n",
        "    space=0,               # no gap between joint/marginals\n",
        "    ratio=50,              # relative height of joint vs. marginals\n",
        "    marginal_ticks=True\n",
        ")\n",
        "\n",
        "for k, sub in df.groupby(\"survived\"):\n",
        "    g.ax_joint.scatter(\n",
        "        sub[\"age\"], sub[\"fare\"],\n",
        "        s=22, alpha=0.55, linewidth=0, label=labels[k], color=palette[k]\n",
        "    )\n",
        "\n",
        "# Optional: add a LOWESS trend line for overall relationship\n",
        "sns.regplot(\n",
        "    data=df, x=\"age\", y=\"fare\",\n",
        "    lowess=True, scatter=False, ax=g.ax_joint,\n",
        "    line_kws=dict(linewidth=2, alpha=0.9, color=\"black\")\n",
        ")\n",
        "\n",
        "# Top (x) histogram\n",
        "for k, sub in df.groupby(\"survived\"):\n",
        "    sns.histplot(\n",
        "        sub, x=\"age\",\n",
        "        bins=24, stat=\"density\", element=\"step\", fill=True, alpha=0.25,\n",
        "        ax=g.ax_marg_x, color=palette[k]\n",
        "    )\n",
        "\n",
        "# Right (y) histogram (horizontal)\n",
        "for k, sub in df.groupby(\"survived\"):\n",
        "    sns.histplot(\n",
        "        sub, y=\"fare\",\n",
        "        bins=24, stat=\"density\", element=\"step\", fill=True, alpha=0.25,\n",
        "        ax=g.ax_marg_y, color=palette[k]\n",
        "    )\n",
        "\n",
        "r = np.corrcoef(df[\"age\"], df[\"fare\"])[0, 1]\n",
        "g.ax_joint.annotate(\n",
        "    f\"Pearson r = {r:.2f}\",\n",
        "    xy=(0.03, 0.95), xycoords=\"axes fraction\",\n",
        "    ha=\"left\", va=\"top\", fontsize=11, weight=\"bold\",\n",
        "    bbox=dict(boxstyle=\"round,pad=0.25\", fc=\"white\", ec=\"0.7\", alpha=0.9)\n",
        ")\n",
        "\n",
        "g.ax_joint.set_xlabel(\"Age\")\n",
        "g.ax_joint.set_ylabel(\"Fare\")\n",
        "g.ax_joint.grid(True, linestyle=\"--\", linewidth=0.5, alpha=0.35)\n",
        "g.ax_joint.legend(title=\"Status\", frameon=True)\n",
        "g.fig.suptitle(\"Titanic — Joint Distribution of Age vs Fare\", fontsize=16, y=1.02)\n",
        "\n",
        "plt.show()\n"
      ]
    },
    {
      "cell_type": "markdown",
      "metadata": {
        "id": "9wRQSaYYKKbO"
      },
      "source": [
        "# EX 5 - Style and Customization\n",
        "Change the Seaborn style using `set_style`."
      ]
    },
    {
      "cell_type": "code",
      "execution_count": null,
      "metadata": {
        "id": "2lPzADhOKPIj"
      },
      "outputs": [],
      "source": [
        "import seaborn as sns\n",
        "import matplotlib.pyplot as plt\n",
        "\n",
        "titanic = sns.load_dataset(\"titanic\")\n",
        "\n",
        "sns.set_style(\"darkgrid\")\n",
        "\n",
        "# Create a simple plot\n",
        "sns.countplot(data=titanic, x=\"class\", hue=\"sex\")\n",
        "\n",
        "plt.title(\"Passenger Class Distribution by Gender\")\n",
        "plt.show()\n"
      ]
    },
    {
      "cell_type": "markdown",
      "metadata": {
        "id": "UAahH4BEKPog"
      },
      "source": [
        "Remove spines from a plot using `despine`."
      ]
    },
    {
      "cell_type": "code",
      "execution_count": null,
      "metadata": {
        "id": "k-RNii5LKStz"
      },
      "outputs": [],
      "source": [
        "import seaborn as sns\n",
        "import matplotlib.pyplot as plt\n",
        "\n",
        "titanic = sns.load_dataset(\"titanic\")\n",
        "\n",
        "sns.set_style(\"whitegrid\")\n",
        "\n",
        "# Create a boxplot\n",
        "sns.boxplot(data=titanic, x=\"class\", y=\"age\")\n",
        "\n",
        "# Remove top and right spines\n",
        "sns.despine()\n",
        "\n",
        "plt.title(\"Age Distribution by Passenger Class\")\n",
        "plt.show()\n"
      ]
    },
    {
      "cell_type": "markdown",
      "metadata": {
        "id": "dMheGsxTKTRH"
      },
      "source": [
        "Adjust figure size and aspect ratio using `set_context`."
      ]
    },
    {
      "cell_type": "code",
      "execution_count": null,
      "metadata": {
        "id": "PMFMduyWKWdA"
      },
      "outputs": [],
      "source": [
        "import seaborn as sns\n",
        "import matplotlib.pyplot as plt\n",
        "\n",
        "titanic = sns.load_dataset(\"titanic\")\n",
        "\n",
        "# Adjust context (options: paper, notebook, talk, poster)\n",
        "sns.set_context(\"talk\", font_scale=1.2, rc={\"figure.figsize\":(10,6)})\n",
        "\n",
        "# Create a bar plot\n",
        "sns.barplot(data=titanic, x=\"class\", y=\"fare\", hue=\"sex\")\n",
        "\n",
        "plt.title(\"Average Fare by Class and Gender\")\n",
        "plt.show()\n"
      ]
    },
    {
      "cell_type": "markdown",
      "metadata": {
        "id": "dcnzElxKKW2b"
      },
      "source": [
        "Customize color palettes using `set_palette`."
      ]
    },
    {
      "cell_type": "code",
      "execution_count": null,
      "metadata": {
        "id": "jP9XmaxpKcBm"
      },
      "outputs": [],
      "source": [
        "import seaborn as sns\n",
        "import matplotlib.pyplot as plt\n",
        "\n",
        "titanic = sns.load_dataset(\"titanic\")\n",
        "\n",
        "# Set a custom color palette\n",
        "sns.set_palette(\"Set2\")   # other options: \"deep\", \"muted\", \"pastel\", \"bright\", \"dark\", \"colorblind\"\n",
        "\n",
        "# Create a count plot\n",
        "sns.countplot(data=titanic, x=\"class\", hue=\"sex\")\n",
        "\n",
        "plt.title(\"Passenger Class Distribution by Gender\")\n",
        "plt.show()\n"
      ]
    },
    {
      "cell_type": "markdown",
      "metadata": {
        "id": "PLXtrEiCKcub"
      },
      "source": [
        "# Happy Coding!"
      ]
    }
  ],
  "metadata": {
    "colab": {
      "provenance": []
    },
    "kernelspec": {
      "display_name": "Python 3",
      "name": "python3"
    },
    "language_info": {
      "name": "python"
    }
  },
  "nbformat": 4,
  "nbformat_minor": 0
}
