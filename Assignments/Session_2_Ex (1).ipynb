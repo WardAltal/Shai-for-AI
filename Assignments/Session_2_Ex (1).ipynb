{
  "cells": [
    {
      "cell_type": "markdown",
      "metadata": {
        "id": "6876K7Oh2mL5"
      },
      "source": [
        "# Python Basics Exercises\n",
        "**By: Mhd Shadi Hasan**\n",
        "\n",
        "\n",
        "## EX 1 - Profit Calculator\n",
        "\n",
        "Write a Python program that the user can use to calculate total profits using the equation:\n",
        "\n",
        "$Total Profit = Total Revenue - Total Expenses$\n",
        "\n",
        "The program should do the following:\n",
        "1. Ask the user to insert their total revenue and total expenses values.\n",
        "2. Calculate the total profit.\n",
        "3. Display the three values in a tidy manner (e.g. Total Profit = 100 JOD)\n",
        "4. The program should be able to perform accurate calculations on any numerical values the user inputs.\n",
        "\n",
        "## EX 2 - Rate of Return Calculator\n",
        "\n",
        "It's the year 2024. Recent AI applications and innovations resulted in high demand on computer chips. This made the stock prices go up for chips companies. Company FANTASTIC CHIPS's stock price was $63.48 on Jan 1st, 2024. An investor wants a program that allows them to calculate what the rate of return will be at the end of 2024 for every expected future stock price that they input to the program. The rate of return equation is:\n",
        "\n",
        "$RR = \\frac{V_f - V_i}{V_i} \\times 100 \\%$\n",
        "\n",
        "The program should do the following:\n",
        "1. Ask the user to input their expectation of the future stock price.\n",
        "2. Calculate the rate of return.\n",
        "3. Print the rate of return as a percentage.\n",
        "4. Print True if their rate of return was positive and False if negative.\n",
        "\n",
        "## EX 3 - Strings\n",
        "\n",
        "Write a program that does the following:\n",
        "\n",
        "1. Ask the user to input their name, age, and city name.\n",
        "2. Print to the output:\n",
        "\n",
        "```\n",
        "Hello [user name],\n",
        "Happy birthday! You're [age] years old now :)\n",
        "Do you need to find a nice restaurant in [city name] to celebrate?\n",
        "```\n",
        "\n",
        "No matter how the user inserts this information, make sure that the user name and city name are both capitalized (i.e. only the first letter must be in uppercase).\n",
        "\n",
        "Use a single `print()` command. Hint: check the python print function documentation to figure out how to do it ;)\n",
        "\n",
        "**P.S. ALL CODE MUST BE CLEAN, READABLE, WELL EXPLAINED, AND FOLLOWS THE PEP 8 STYLE GUIDE.**\n",
        "\n",
        "Happy coding!!"
      ]
    },
    {
      "cell_type": "code",
      "execution_count": null,
      "metadata": {
        "id": "k5Q3ZB562YWf"
      },
      "outputs": [
        {
          "name": "stdout",
          "output_type": "stream",
          "text": [
            "=== Total Profit Calculator ===\n",
            "\n",
            "=== Profit Summary ===\n",
            "Total Revenue = 2350.25 JOD\n",
            "Total Expenses = 600.72 JOD\n",
            "Total Profit = 1749.53 JOD\n"
          ]
        }
      ],
      "source": [
        "# EX 1\n",
        "\n",
        "def main():\n",
        "    print(\"=== Total Profit Calculator ===\")\n",
        "\n",
        "\n",
        "    try:\n",
        "        revenue = float(input(\"Enter total revenue: \"))\n",
        "        expenses = float(input(\"Enter total expenses: \"))\n",
        "    except ValueError:\n",
        "        print(\"Error: Please enter valid numerical values.\")\n",
        "        return\n",
        "\n",
        "\n",
        "    profit = revenue - expenses\n",
        "\n",
        "\n",
        "    print(\"\\n=== Profit Summary ===\")\n",
        "    print(f\"Total Revenue = {revenue:.2f} JOD\")\n",
        "    print(f\"Total Expenses = {expenses:.2f} JOD\")\n",
        "    print(f\"Total Profit = {profit:.2f} JOD\")\n",
        "\n",
        "\n",
        "if __name__ == \"__main__\":\n",
        "    main()\n"
      ]
    },
    {
      "cell_type": "code",
      "execution_count": 1,
      "metadata": {
        "id": "LnkbB5U2D0Ss"
      },
      "outputs": [
        {
          "name": "stdout",
          "output_type": "stream",
          "text": [
            "Rate of Return: 24.24%\n",
            "True\n"
          ]
        }
      ],
      "source": [
        "# EX 2\n",
        "\n",
        "initial_price = 63.48\n",
        "\n",
        "future_price = float(input(\"Enter your expected future stock price for FANTASTIC CHIPS: \"))\n",
        "\n",
        "rate_of_return = ((future_price - initial_price) / initial_price) * 100\n",
        "\n",
        "print(f\"Rate of Return: {rate_of_return:.2f}%\")\n",
        "\n",
        "print(rate_of_return > 0)\n"
      ]
    },
    {
      "cell_type": "code",
      "execution_count": 4,
      "metadata": {
        "id": "rFN-tHj-D1tt"
      },
      "outputs": [
        {
          "name": "stdout",
          "output_type": "stream",
          "text": [
            "Hello Ward,\n",
            "Happy birthday! You're 23 years old now :)\n",
            "Do you need to find a nice restaurant in Hebron to celebrate?\n"
          ]
        }
      ],
      "source": [
        "# EX 3\n",
        "\n",
        "name = input(\"Enter your name: \").strip().capitalize()\n",
        "age = input(\"Enter your age: \").strip()\n",
        "city = input(\"Enter your city name: \").strip().capitalize()\n",
        "\n",
        "print(\n",
        "    f\"Hello {name},\",\n",
        "    f\"Happy birthday! You're {age} years old now :)\",\n",
        "    f\"Do you need to find a nice restaurant in {city} to celebrate?\",\n",
        "    sep=\"\\n\"\n",
        ")\n"
      ]
    }
  ],
  "metadata": {
    "colab": {
      "provenance": []
    },
    "kernelspec": {
      "display_name": "Python 3",
      "name": "python3"
    },
    "language_info": {
      "codemirror_mode": {
        "name": "ipython",
        "version": 3
      },
      "file_extension": ".py",
      "mimetype": "text/x-python",
      "name": "python",
      "nbconvert_exporter": "python",
      "pygments_lexer": "ipython3",
      "version": "3.13.5"
    }
  },
  "nbformat": 4,
  "nbformat_minor": 0
}
