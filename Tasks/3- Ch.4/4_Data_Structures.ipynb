{
  "cells": [
    {
      "cell_type": "markdown",
      "metadata": {
        "id": "m9NFqxtz5AEl"
      },
      "source": [
        "# Data Structures\n",
        "\n",
        "This Notebook includes the following contents:\n",
        "\n",
        "* list\n",
        "  \n",
        "  -- `CRUD`\n",
        "\n",
        "* list built-in functions\n",
        "\n",
        "  -- `append()` , `insert()` , `extend()` , `remove()` , `pop()` , `sort()` , `reverse()` , `in` , `index()` , `max()` , `min()` , `sum()`\n",
        "\n",
        "* Nested Lists\n",
        "* Tuples\n",
        "* Sets\n",
        "* Set built-in functions\n",
        "\n",
        "  -- `add()` , `update()` , `pop()` , `remove()` , `discard()` , `union()` , `intersection()` , `difference()` , `symmetric_difference()` , `in`\n",
        "\n",
        "* Dictionary\n",
        "* Dictionary built-in functions\n",
        "\n",
        "  -- `pop()` , `popitem()` , `keys()` , `values()` , `update()` , `in`\n"
      ]
    },
    {
      "cell_type": "markdown",
      "metadata": {
        "id": "qVZnZlIjDBUQ"
      },
      "source": [
        "# Lists"
      ]
    },
    {
      "cell_type": "markdown",
      "metadata": {
        "id": "hWKNQJsdhf5Z"
      },
      "source": [
        "* Lists are one of the most versatile data structures in Python. A list can contain any sort of object: numbers, strings, and even other lists.\n",
        "\n",
        "* Lists are mutable, meaning they can be modified after they are created.\n",
        "\n",
        "* We can create a list by enclosing a comma-separated sequence of elements in square brackets [ ].\n",
        "\n",
        "*   Ordered: The items in a list have a specific order, and that order doesn't change unless you modify the list.\n",
        "\n",
        "*   Changable: You can change, add, or remove items after the list is created.\n",
        "\n",
        "*   Allows Duplicates: Lists can have items that are the same, so duplicates are allowed.\n",
        "\n",
        "\n",
        "---\n",
        "CRUD Operations\n",
        "   - Create: `lst = [1, 2, 3, 4, 5]`\n",
        "   - Read: `lst[0]` (This returns the first element of the list.)\n",
        "   - Update: `lst[0] = 10` (This changes the first element to 10.)\n",
        "   - Delete: `del lst[0]` (This removes the first element from the list.)"
      ]
    },
    {
      "cell_type": "code",
      "execution_count": null,
      "metadata": {
        "id": "ZAYmnf_CMDNH"
      },
      "outputs": [],
      "source": [
        "lst=[0,1,2,3]\n",
        "lst[0]=10"
      ]
    },
    {
      "cell_type": "code",
      "execution_count": null,
      "metadata": {
        "id": "ZAwz0gkiC5oj"
      },
      "outputs": [],
      "source": [
        "# Create an empty list\n",
        "my_list = list()"
      ]
    },
    {
      "cell_type": "code",
      "execution_count": null,
      "metadata": {
        "id": "xAA8i0rcDMiW"
      },
      "outputs": [],
      "source": [
        "# list creation\n",
        "items = [\"Banana\", \"Apple\" , \"Mango\", \"Banana\"]\n",
        "print(type(items))\n",
        "print(f\"items are {items}\")"
      ]
    },
    {
      "cell_type": "code",
      "execution_count": null,
      "metadata": {
        "id": "XMtPugEODQv6"
      },
      "outputs": [],
      "source": [
        "# Count the number of elements inside the list\n",
        "items = [\"Banana\", \"Apple\" , \"Mango\", \"Banana\"]\n",
        "print(f\"the number of elements inside the list is {len(items)}\")"
      ]
    },
    {
      "cell_type": "code",
      "execution_count": null,
      "metadata": {
        "id": "i-o4T341DR36"
      },
      "outputs": [],
      "source": [
        "#Read\n",
        "items = [\"Banana\", \"Apple\" , \"Mango\", \"Apple\"]\n",
        "print(items[0])"
      ]
    },
    {
      "cell_type": "code",
      "execution_count": null,
      "metadata": {
        "id": "VhiGWCi3Disd"
      },
      "outputs": [],
      "source": [
        "items = [\"Banana\", \"Apple\" , \"Mango\", \"Apple\"]\n",
        "\n",
        "# Accessing Elements\n",
        "\n",
        "# to access the first element\n",
        "print(\"first element is:\", items[0]) # Indexing in python starts at zero NOT ONE\n",
        "print(\"--------------------------------------------------\")\n",
        "\n",
        "# of course we can store it in a varibale\n",
        "first_item = items[0] # ?\n",
        "print(f\"first element is {first_item}\")\n",
        "print(\"--------------------------------------------------\")\n",
        "\n",
        "# to access the last element\n",
        "print(f\"last element is {items[-1]}\")\n",
        "print(\"--------------------------------------------------\")\n",
        "# store it in a variable\n",
        "\n",
        "last_item = items[-1]\n",
        "print(f\"last element is {last_item}\")\n",
        "print(\"--------------------------------------------------\")"
      ]
    },
    {
      "cell_type": "code",
      "execution_count": null,
      "metadata": {
        "id": "B6Rcz3JPDvZN"
      },
      "outputs": [],
      "source": [
        "# Slicing list we use : to slice\n",
        "print(f\"subset items {items[:2]}\") # note that it starts from zero until one (2 - 1)\n",
        "print(\"--------------------------------------------------\")\n",
        "# store it in a variable\n",
        "sub_items = items[:2]\n",
        "\n",
        "print(f\"subset items {sub_items}\")\n",
        "print(\"--------------------------------------------------\")\n",
        "print(f\"subset items {items[-3:-1]}\")"
      ]
    },
    {
      "cell_type": "code",
      "execution_count": null,
      "metadata": {
        "id": "3mVqPqR_FvEh"
      },
      "outputs": [],
      "source": [
        "# Update\n",
        "items = [10,\"bob\", 45.5, True, \"$\", 500, 0]\n",
        "items[0] = \"batool\"\n",
        "print(items)"
      ]
    },
    {
      "cell_type": "code",
      "execution_count": null,
      "metadata": {
        "id": "FOpupKSuJGTU"
      },
      "outputs": [],
      "source": [
        "# updating elements\n",
        "\n",
        "#update the first element\n",
        "items[0] = 12\n",
        "print(f\"items after updating first element ---> {items}\")"
      ]
    },
    {
      "cell_type": "code",
      "execution_count": null,
      "metadata": {
        "id": "i5WrbCa_JJZo"
      },
      "outputs": [],
      "source": [
        "# update multiple elements\n",
        "\n",
        "items[1:3] = [13, \"desk\"]\n",
        "print(f\"items after updating multiple elements ---> {items}\")"
      ]
    },
    {
      "cell_type": "code",
      "execution_count": null,
      "metadata": {
        "id": "VUi3_9GFF5g7"
      },
      "outputs": [],
      "source": [
        "# Delete element/s\n",
        "\n",
        "del items[0]\n",
        "print(items)"
      ]
    },
    {
      "cell_type": "code",
      "execution_count": null,
      "metadata": {
        "id": "x9wfQesPGO9K"
      },
      "outputs": [],
      "source": [
        "# Delete list\n",
        "\n",
        "lst = [1,2,3]\n",
        "del lst"
      ]
    },
    {
      "cell_type": "markdown",
      "metadata": {
        "id": "hepwLLwnD0WU"
      },
      "source": [
        "\n",
        "\n",
        "---\n",
        "\n",
        "\n",
        "Task #1:\n",
        "\n",
        "Define a list of 6 items and print the number of items inside the list, second element, second last element and use slicing to print out the second element until the third one.\n",
        "\n",
        "---\n",
        "\n"
      ]
    },
    {
      "cell_type": "code",
      "execution_count": 3,
      "metadata": {},
      "outputs": [
        {
          "name": "stdout",
          "output_type": "stream",
          "text": [
            "Number of items: 6\n",
            "Second element: banana\n",
            "Second last element: fig\n",
            "Second to third element: ['banana', 'cherry']\n"
          ]
        }
      ],
      "source": [
        "my_list = ['apple', 'banana', 'cherry', 'date', 'fig', 'grape']\n",
        "\n",
        "print(\"Number of items:\", len(my_list))\n",
        "\n",
        "print(\"Second element:\", my_list[1])\n",
        "\n",
        "print(\"Second last element:\", my_list[-2])\n",
        "\n",
        "print(\"Second to third element:\", my_list[1:3])\n"
      ]
    },
    {
      "cell_type": "markdown",
      "metadata": {
        "id": "WMbPqCPrED6I"
      },
      "source": [
        "# list built-in functions"
      ]
    },
    {
      "cell_type": "code",
      "execution_count": null,
      "metadata": {
        "id": "aIpJToALEFB0"
      },
      "outputs": [],
      "source": [
        "items = [10,\"bob\", 45.5, True, \"$\", 500, 0]"
      ]
    },
    {
      "cell_type": "code",
      "execution_count": null,
      "metadata": {
        "id": "zoXC8QfLENr8"
      },
      "outputs": [],
      "source": [
        "# Adding elements to lists using (append)\n",
        "\n",
        "items.append(30) # note that you can't append multiple items and it appends to the end of the list\n",
        "print(f\"items after appending ---> {items}\")"
      ]
    },
    {
      "cell_type": "code",
      "execution_count": null,
      "metadata": {
        "id": "MCAdo5WvEQX2"
      },
      "outputs": [],
      "source": [
        "# Adding element into a certain position (insert)\n",
        "\n",
        "items.insert(2, \"friends\")\n",
        "print(f\"items after inserting ---> {items}\")"
      ]
    },
    {
      "cell_type": "code",
      "execution_count": null,
      "metadata": {
        "id": "Us7IMoXFERnH"
      },
      "outputs": [],
      "source": [
        "# Add multi-elements to end the list (extend)\n",
        "\n",
        "items.extend([6, 1, True])\n",
        "print(f\"items after extending ---> {items}\")"
      ]
    },
    {
      "cell_type": "code",
      "execution_count": null,
      "metadata": {
        "id": "Jhhsx8jeEVMp"
      },
      "outputs": [],
      "source": [
        "# removing items\n",
        "\n",
        "items.remove(\"bob\") # it removes only one element\n",
        "print(f\"items after removing ---> {items}\")"
      ]
    },
    {
      "cell_type": "code",
      "execution_count": null,
      "metadata": {
        "id": "vgeOcHZOEfMr"
      },
      "outputs": [],
      "source": [
        "# removing items\n",
        "\n",
        "items.pop() # by default it removes the last item\n",
        "print(f\"items after removing using pop function ---> {items}\")"
      ]
    },
    {
      "cell_type": "code",
      "execution_count": null,
      "metadata": {
        "id": "pGEYhyiiElF2"
      },
      "outputs": [],
      "source": [
        "# Note that you can store the popped value into a variable\n",
        "popped_value = items.pop()\n",
        "\n",
        "print(f\"popped value is {popped_value}\")\n",
        "print(\"--------------------------------------\")\n",
        "print(f\"items after removing using pop function ---> {items}\")"
      ]
    },
    {
      "cell_type": "code",
      "execution_count": null,
      "metadata": {
        "id": "bwvhAuGXEn7v"
      },
      "outputs": [],
      "source": [
        "batool = [\"buy coffee\", \"call mom\", \"finish report\"]"
      ]
    },
    {
      "cell_type": "code",
      "execution_count": null,
      "metadata": {
        "id": "H68HDFnEEq2W"
      },
      "outputs": [],
      "source": [
        "print(batool.pop())\n",
        "print(batool)"
      ]
    },
    {
      "cell_type": "code",
      "execution_count": null,
      "metadata": {
        "id": "7L1cV6bFEtf7"
      },
      "outputs": [],
      "source": [
        "# why pop ?\n",
        "\n",
        "items = [\"buy coffee\", \"call mom\", \"finish report\"]\n",
        "popped_item = items.pop(1)\n",
        "\n",
        "print(popped_item)\n",
        "\n",
        "print(items)\n",
        "x = items.pop(0)\n",
        "print(x)\n",
        "print(items)"
      ]
    },
    {
      "cell_type": "markdown",
      "metadata": {
        "id": "PebjZXgYEyFQ"
      },
      "source": [
        "\n",
        "\n",
        "---\n",
        "\n",
        "Task #2:\n",
        "\n",
        "Define a list of numbers [1,2,3] and then use append method to add 4 and use insert to add 5 at position 1 expected output [1,5,2,3,4]\n",
        "\n",
        "\n",
        "---\n",
        "\n"
      ]
    },
    {
      "cell_type": "code",
      "execution_count": 4,
      "metadata": {},
      "outputs": [
        {
          "name": "stdout",
          "output_type": "stream",
          "text": [
            "[1, 5, 2, 3, 4]\n"
          ]
        }
      ],
      "source": [
        "numbers = [1, 2, 3]\n",
        "\n",
        "numbers.append(4)\n",
        "\n",
        "numbers.insert(1, 5)\n",
        "\n",
        "print(numbers)\n"
      ]
    },
    {
      "cell_type": "code",
      "execution_count": null,
      "metadata": {
        "id": "8TKCNMvLFExf"
      },
      "outputs": [],
      "source": [
        "# sorting lists\n",
        "my_list = [100,4,2,50,87,95]\n",
        "\n",
        "# Sorting using sort() function\n",
        "my_list.sort()\n",
        "print(f\"after sorting ---> {my_list} \")"
      ]
    },
    {
      "cell_type": "code",
      "execution_count": null,
      "metadata": {
        "id": "YjDPR328FKLA"
      },
      "outputs": [],
      "source": [
        "my_list.sort(reverse= True)\n",
        "print(f\"after sorting ---> {my_list} \")"
      ]
    },
    {
      "cell_type": "code",
      "execution_count": null,
      "metadata": {
        "id": "LZx9Fj_1FPK-"
      },
      "outputs": [],
      "source": [
        "names = [\"Omar\", \"Mohammad\", \"Ammar\"]\n",
        "names.sort()\n",
        "print(names)"
      ]
    },
    {
      "cell_type": "code",
      "execution_count": null,
      "metadata": {
        "id": "gCVEcfZJFSCo"
      },
      "outputs": [],
      "source": [
        "# Reverse list\n",
        "lst = [3,2,3,10,5,7]\n",
        "\n",
        "lst.reverse()\n",
        "print(lst)"
      ]
    },
    {
      "cell_type": "code",
      "execution_count": null,
      "metadata": {
        "id": "H22FDYfzFVAF"
      },
      "outputs": [],
      "source": [
        "# Check if a specific element exists in a list\n",
        "values = [\"data\" , 'sql', 'ML']\n",
        "\n",
        "print(\"data\" in values)\n",
        "print(\"python\" in values)\n",
        "print(\"DATA\" in values)"
      ]
    },
    {
      "cell_type": "code",
      "execution_count": null,
      "metadata": {
        "id": "Wdsa4-d8FXlZ"
      },
      "outputs": [],
      "source": [
        "# Find the index of a specific element in list\n",
        "\n",
        "values = [\"data\" , 'sql', 'ML']\n",
        "print(values.index(\"data\"))"
      ]
    },
    {
      "cell_type": "code",
      "execution_count": null,
      "metadata": {
        "id": "3gaOV_kZKBlW"
      },
      "outputs": [],
      "source": [
        "# another built-in functions\n",
        "\n",
        "lst = [20,10,15]\n",
        "\n",
        "# sum : to sum the elements\n",
        "\n",
        "print(\"sum of elements is \", sum(lst))\n",
        "\n",
        "# max: max number of the list\n",
        "max_lst = max(lst)\n",
        "print(f\"maximum number is {max_lst}\")\n",
        "\n",
        "# min: min number of the list\n",
        "min_lst = min(lst)\n",
        "print(f\"minimum number is {min_lst}\")"
      ]
    },
    {
      "cell_type": "markdown",
      "metadata": {
        "id": "BoR3UQTfJQ3I"
      },
      "source": [
        "# Nested List"
      ]
    },
    {
      "cell_type": "code",
      "execution_count": null,
      "metadata": {
        "id": "3n1t48wkJTyg"
      },
      "outputs": [],
      "source": [
        "lst = [1, [4,5,6] , [\"mark\" , 'bob', 'ross']]\n",
        "\n",
        "print(lst[1][1])"
      ]
    },
    {
      "cell_type": "code",
      "execution_count": null,
      "metadata": {
        "id": "mKWMb9v5JdIE"
      },
      "outputs": [],
      "source": [
        "# Schedule for a week\n",
        "schedule = [\n",
        "    [\"Meeting with team\", \"Code review\", \"Lunch with client\"], # Sunday\n",
        "    [\"Project planning\", \"Write documentation\"],               # Monday\n",
        "    [\"Development\", \"Team stand-up\", \"Client call\"],           # Tuesday\n",
        "    [\"Testing\", \"Bug fixing\", \"Team meeting\"],                 # Wednesday\n",
        "    [\"Deployment\", \"Write report\"],                            # Thursday\n",
        "    [\"Weekend break\"],                                         # Friday\n",
        "    [\"Weekend break\"]                                          # Saturday\n",
        "]\n",
        "\n",
        "# accessing tasks for a specific day\n",
        "Tuesday_tasks = schedule[2]\n",
        "print(\"Tuesday's tasks:\", Tuesday_tasks)"
      ]
    },
    {
      "cell_type": "code",
      "execution_count": null,
      "metadata": {
        "id": "sZJrEfjxJhbr"
      },
      "outputs": [],
      "source": [
        "# adding a new task to Wednesday\n",
        "schedule[3].append(\"Prepare presentation\")\n",
        "print(\"Wednesday's updated tasks:\", schedule[3])"
      ]
    },
    {
      "cell_type": "code",
      "execution_count": null,
      "metadata": {
        "id": "b9jaENmtJjLk"
      },
      "outputs": [],
      "source": [
        "# removing a task from Sunday\n",
        "schedule[0].remove(\"Lunch with client\")\n",
        "print(\"Sunday's updated tasks:\", schedule)"
      ]
    },
    {
      "cell_type": "markdown",
      "metadata": {
        "id": "TdEEMUP8Jovt"
      },
      "source": [
        "\n",
        "\n",
        "---\n",
        "\n",
        "Task #3:\n",
        "\n",
        "You have the following nested list: nested_list = [[1, 2, 3], [4, 5, 6], [7, 8, 9]]\n",
        "\n",
        "\n",
        "1.   Access the number 5 from the nested list and assign it to a variable named number, print the variable number.\n",
        "2.   Append number 10 to the last list inside nested_list, Print the updated nested_list."
      ]
    },
    {
      "cell_type": "code",
      "execution_count": 5,
      "metadata": {},
      "outputs": [
        {
          "name": "stdout",
          "output_type": "stream",
          "text": [
            "Number: 5\n",
            "Updated nested_list: [[1, 2, 3], [4, 5, 6], [7, 8, 9, 10]]\n"
          ]
        }
      ],
      "source": [
        "nested_list = [[1, 2, 3], [4, 5, 6], [7, 8, 9]]\n",
        "\n",
        "number = nested_list[1][1]\n",
        "print(\"Number:\", number)\n",
        "\n",
        "nested_list[-1].append(10)\n",
        "print(\"Updated nested_list:\", nested_list)\n"
      ]
    },
    {
      "cell_type": "markdown",
      "metadata": {
        "id": "NUs5SBgMKbnP"
      },
      "source": [
        "# Tuples"
      ]
    },
    {
      "cell_type": "markdown",
      "metadata": {
        "id": "ig6nXm3WHVha"
      },
      "source": [
        "*   Python tuples use parentheses () to contain and organize items.\n",
        "\n",
        "*   Ordered: Items are arranged in a specific sequence.\n",
        "\n",
        "*  Unchangeable: Once created, you cannot modify, add, or remove items in a tuple.\n",
        "\n",
        "*   Allows Duplicates: You can have multiple identical items in a tuple.\n",
        "\n",
        "\n",
        "---\n",
        "CRUD Operations\n",
        "   - Create: `t = (1, 2, 3, 4, 5)`\n",
        "   - Read: `t[0]` (This returns the first element of the tuple.)\n",
        "   - Update: Tuples are immutable, so they cannot be updated. However, we can concatenate them or reassign the variable.\n",
        "   - Delete: `del t` (You can't delete an element of a tuple, but you can delete the entire tuple.)\n"
      ]
    },
    {
      "cell_type": "code",
      "execution_count": null,
      "metadata": {
        "id": "PzaVuhkJKfk_"
      },
      "outputs": [],
      "source": [
        "# Create an empty tuple\n",
        "\n",
        "my_tuple = tuple()"
      ]
    },
    {
      "cell_type": "code",
      "execution_count": null,
      "metadata": {
        "id": "_LhHyqOyJ7gx"
      },
      "outputs": [],
      "source": [
        "# Create Tuple\n",
        "\n",
        "contact = (\"abed\", \"555-1234\", \"abed@gmail.com\",1)\n",
        "print(contact)\n",
        "print(type(contact))"
      ]
    },
    {
      "cell_type": "code",
      "execution_count": null,
      "metadata": {
        "id": "L9zx7sXqKsY0"
      },
      "outputs": [],
      "source": [
        "# Read\n",
        "\n",
        "print(contact[0])\n",
        "print(type(contact[0]))"
      ]
    },
    {
      "cell_type": "code",
      "execution_count": null,
      "metadata": {
        "id": "Jc6GLkNAKwq6"
      },
      "outputs": [],
      "source": [
        "# no update --> cannot modify"
      ]
    },
    {
      "cell_type": "code",
      "execution_count": null,
      "metadata": {
        "id": "OOcu4fUKK8M3"
      },
      "outputs": [],
      "source": [
        "# Check if element exists\n",
        "contact = (\"abed\", \"555-1234\", \"abed@gmail.com\")\n",
        "print(\"abed\" in contact)\n",
        "print(\"Abed\" in contact)"
      ]
    },
    {
      "cell_type": "code",
      "execution_count": null,
      "metadata": {
        "id": "qW9BULPoK_KZ"
      },
      "outputs": [],
      "source": [
        "# delete tuple\n",
        "\n",
        "my_tuple =(1,2,3)\n",
        "del my_tuple"
      ]
    },
    {
      "cell_type": "markdown",
      "metadata": {
        "id": "G8qsZmGdLGF4"
      },
      "source": [
        "\n",
        "\n",
        "---\n",
        "\n",
        "\n",
        "Task #4:\n",
        "\n",
        "Create a tuple and print the last element\n",
        "\n",
        "\n",
        "---\n",
        "\n"
      ]
    },
    {
      "cell_type": "code",
      "execution_count": 6,
      "metadata": {},
      "outputs": [
        {
          "name": "stdout",
          "output_type": "stream",
          "text": [
            "Last element: 50\n"
          ]
        }
      ],
      "source": [
        "my_tuple = (10, 20, 30, 40, 50)\n",
        "\n",
        "print(\"Last element:\", my_tuple[-1])\n"
      ]
    },
    {
      "cell_type": "markdown",
      "metadata": {
        "id": "GbkufAcWLRD0"
      },
      "source": [
        "# Sets"
      ]
    },
    {
      "cell_type": "markdown",
      "metadata": {
        "id": "hUY2CiugHqa8"
      },
      "source": [
        "*   Python sets use curly braces {} to contain and organize items.\n",
        "*   Unordered: Items have no specific sequence.\n",
        "\n",
        "\n",
        "*   Unchangeable (in terms of items): Once added, individual items cannot be changed, but you can add or remove items from the set as a whole.\n",
        "*   No Duplicates: Sets automatically remove duplicate items, so each item is unique.\n",
        "\n",
        "\n",
        "---\n",
        "CRUD Operations:\n",
        "   - Create: `st = {1, 2, 3, 4, 5}`\n",
        "   - Read: We can't access or change an element of a set using indexing or slicing due to the unordered nature of sets. We can loop through the set or check if an item exists.\n",
        "   - Update: `st.add(6)` (This adds element 6 to the set.); `st.update([7, 8])` (This adds elements 7 and 8 to the set.)\n",
        "   - Delete: `st.remove(1)` (This removes element 1 from the set. If the item does not exist, it raises an error.); `st.discard(2)` (This removes element 2 from the set. If the item does not exist, it does not raise an error.)\n"
      ]
    },
    {
      "cell_type": "code",
      "execution_count": null,
      "metadata": {
        "id": "A61qUtQYLcqt"
      },
      "outputs": [],
      "source": [
        "# Set Creation\n",
        "my_set = { 2, 3, 2, 1 , 1 , 1 , 1 , 1 , 1}\n",
        "print(my_set)"
      ]
    },
    {
      "cell_type": "markdown",
      "metadata": {
        "id": "zi6-cUQRLxTM"
      },
      "source": [
        "# Set built-in functions"
      ]
    },
    {
      "cell_type": "code",
      "execution_count": null,
      "metadata": {
        "id": "kb91S41TL8E2"
      },
      "outputs": [],
      "source": [
        "# adding elements\n",
        "courses = {\"DL\",\"ML\",\"Python\"}\n",
        "print(courses)\n",
        "\n",
        "courses.add(\"SQL\")\n",
        "courses.add(\"ML\") # won't be added because it exists.\n",
        "print(courses)"
      ]
    },
    {
      "cell_type": "code",
      "execution_count": null,
      "metadata": {
        "id": "VpEFjLY3MTpi"
      },
      "outputs": [],
      "source": [
        "my_set = {1, 2, 3}\n",
        "another_set = {4, 5, 6,1}\n",
        "# add multiple elements using update\n",
        "my_set.update(another_set) # no duplicates\n",
        "\n",
        "print(my_set)"
      ]
    },
    {
      "cell_type": "code",
      "execution_count": null,
      "metadata": {
        "id": "VdRmTVrQMdkr"
      },
      "outputs": [],
      "source": [
        "another_set.update(my_set)\n",
        "print(another_set)"
      ]
    },
    {
      "cell_type": "code",
      "execution_count": null,
      "metadata": {
        "id": "mzUdl6nfMfTH"
      },
      "outputs": [],
      "source": [
        "# Removing elements\n",
        "\n",
        "courses = {\"DL\",\"ML\",\"Python\",\"SQL\"}\n",
        "\n",
        "course = courses.pop()\n",
        "print(course)\n",
        "print(courses)"
      ]
    },
    {
      "cell_type": "code",
      "execution_count": null,
      "metadata": {
        "id": "S29XlwbJMjMI"
      },
      "outputs": [],
      "source": [
        "# Remove a specific element from the set. If the element is not found, it raises a KeyErro\n",
        "my_set = {1, 2, 3, \"SQL\"}\n",
        "my_set.remove(2)\n",
        "print(my_set)"
      ]
    },
    {
      "cell_type": "code",
      "execution_count": null,
      "metadata": {
        "id": "Dx2douhLMlh2"
      },
      "outputs": [],
      "source": [
        "my_set.remove(6)"
      ]
    },
    {
      "cell_type": "code",
      "execution_count": null,
      "metadata": {
        "id": "-ujJFUIhMq8N"
      },
      "outputs": [],
      "source": [
        "# discard(): also removes a specific element from the set. Unlike remove(), it does not raise an error if the element is not found.\n",
        "my_set = {1, \"python\", 2, 3,\"ammar\"}\n",
        "my_set.discard(\"python\")\n",
        "my_set"
      ]
    },
    {
      "cell_type": "code",
      "execution_count": null,
      "metadata": {
        "id": "xM1oMxS3N9Cj"
      },
      "outputs": [],
      "source": [
        "my_set.discard(6)\n",
        "print(my_set)"
      ]
    },
    {
      "cell_type": "code",
      "execution_count": null,
      "metadata": {
        "colab": {
          "base_uri": "https://localhost:8080/"
        },
        "id": "xO6YPXjeOGR6",
        "outputId": "03e1e4ff-e3fc-49f7-a0a4-de7ce2f639e9"
      },
      "outputs": [
        {
          "name": "stdout",
          "output_type": "stream",
          "text": [
            "{1, 2, 3, 4, 5}\n"
          ]
        }
      ],
      "source": [
        "# Combining two sets\n",
        "\n",
        "set1 = {1, 2, 3}\n",
        "set2 = {3, 4, 5}\n",
        "result = set2.union(set1)\n",
        "print(result)"
      ]
    },
    {
      "cell_type": "code",
      "execution_count": null,
      "metadata": {
        "id": "Siqnq-LsOKw-"
      },
      "outputs": [],
      "source": [
        "# intersection(sets): Returns a new set with elements common to the set and any additional sets provided.\n",
        "set1 = {1, 2, 3}\n",
        "set2 = {2, 3, 4}\n",
        "result = set1.intersection(set2)\n",
        "print(result)"
      ]
    },
    {
      "cell_type": "code",
      "execution_count": null,
      "metadata": {
        "colab": {
          "base_uri": "https://localhost:8080/"
        },
        "id": "SWyqTPqsOLhf",
        "outputId": "940345fc-89b2-44b4-e341-87b2193262c2"
      },
      "outputs": [
        {
          "name": "stdout",
          "output_type": "stream",
          "text": [
            "{1}\n"
          ]
        }
      ],
      "source": [
        "# difference: Returns a new set with elements in the set that are not in any of the additional sets provided\n",
        "set1 = {1, 2, 3}\n",
        "set2 = {2, 3, 4}\n",
        "result = set1.difference(set2)\n",
        "print(result)"
      ]
    },
    {
      "cell_type": "code",
      "execution_count": null,
      "metadata": {
        "id": "hVMwGT-WOkKv"
      },
      "outputs": [],
      "source": [
        "result = set2.difference(set1)\n",
        "print(result)"
      ]
    },
    {
      "cell_type": "code",
      "execution_count": null,
      "metadata": {
        "id": "EQ_FkXzSOl-H"
      },
      "outputs": [],
      "source": [
        "# symmetric_difference: Returns a new set with elements in either the set or the provided set\n",
        "\n",
        "set1 = {1, 2, 3}\n",
        "set2 = {2, 3, 4}\n",
        "result = set1.symmetric_difference(set2)\n",
        "print(result)"
      ]
    },
    {
      "cell_type": "code",
      "execution_count": null,
      "metadata": {
        "id": "php6f_krOsT9"
      },
      "outputs": [],
      "source": [
        "# Check if element exists\n",
        "\n",
        "my_set = {1, 2, 3}\n",
        "a = \"1\" in my_set\n",
        "print(a)"
      ]
    },
    {
      "cell_type": "code",
      "execution_count": null,
      "metadata": {
        "id": "7UXjltvQOpWg"
      },
      "outputs": [],
      "source": [
        "b = 1 in my_set\n",
        "print(b)"
      ]
    },
    {
      "cell_type": "code",
      "execution_count": null,
      "metadata": {
        "id": "6EmaEq-IOqyn"
      },
      "outputs": [],
      "source": [
        "# delete set\n",
        "my_set = {1,2,3}\n",
        "del my_set"
      ]
    },
    {
      "cell_type": "markdown",
      "metadata": {
        "id": "lfDlwjVaO4jh"
      },
      "source": [
        "\n",
        "\n",
        "---\n",
        "\n",
        "Task 5:\n",
        "\n",
        "Create and Add Elements to a Set\n",
        "\n",
        "\n",
        "*   Create an empty set named my_set\n",
        "*   Add the elements 1, 2, and 3 to my_set\n",
        "*   Print the updated set\n",
        "\n",
        "\n",
        "---\n",
        "\n",
        "\n",
        "Task 6:\n",
        "\n",
        "Check element in a Set\n",
        "\n",
        "\n",
        "*   Create set named my_set with the elements 1, 2, 3, and 4\n",
        "*   Check if the element 2 is in my_set and print the result\n",
        "*   Check if the element 5 is in my_set and print the result\n",
        "---\n",
        "\n",
        "\n",
        "\n",
        "Task 7\n",
        "* create 2 sets A , B\n",
        " --> A {'red' , 'blue' , 'green'}\n",
        " --> B {'red', 'pink' , 'yellow'}\n",
        "\n",
        " and apply the folowing\n",
        "\n",
        " * Apply union and print the result\n",
        "\n",
        " * Apply intersection and print the result\n",
        "\n",
        " * Apply difference and pring the result\n",
        "\n",
        " * Apply union and save the value on B set\n",
        "\n",
        " * delete all sets"
      ]
    },
    {
      "cell_type": "code",
      "execution_count": 7,
      "metadata": {},
      "outputs": [
        {
          "name": "stdout",
          "output_type": "stream",
          "text": [
            "Updated set: {1, 2, 3}\n"
          ]
        }
      ],
      "source": [
        "#Task 5:\n",
        "\n",
        "my_set = set()\n",
        "\n",
        "my_set.add(1)\n",
        "my_set.add(2)\n",
        "my_set.add(3)\n",
        "\n",
        "print(\"Updated set:\", my_set)\n"
      ]
    },
    {
      "cell_type": "code",
      "execution_count": 8,
      "metadata": {},
      "outputs": [
        {
          "name": "stdout",
          "output_type": "stream",
          "text": [
            "Is 2 in my_set? True\n",
            "Is 5 in my_set? False\n"
          ]
        }
      ],
      "source": [
        "#Task 6:\n",
        "\n",
        "my_set = {1, 2, 3, 4}\n",
        "\n",
        "print(\"Is 2 in my_set?\", 2 in my_set)\n",
        "\n",
        "print(\"Is 5 in my_set?\", 5 in my_set)\n"
      ]
    },
    {
      "cell_type": "code",
      "execution_count": 11,
      "metadata": {},
      "outputs": [
        {
          "name": "stdout",
          "output_type": "stream",
          "text": [
            "Union: {'yellow', 'red', 'pink', 'blue', 'green'}\n",
            "Intersection: {'red'}\n",
            "Difference (A - B): {'blue', 'green'}\n",
            "Updated B after union with A: {'yellow', 'red', 'pink', 'blue', 'green'}\n"
          ]
        }
      ],
      "source": [
        "#Task 7:\n",
        "\n",
        "A = {'red', 'blue', 'green'}\n",
        "B = {'red', 'pink', 'yellow'}\n",
        "\n",
        "union_result = A.union(B)\n",
        "print(\"Union:\", union_result)\n",
        "\n",
        "intersection_result = A.intersection(B)\n",
        "print(\"Intersection:\", intersection_result)\n",
        "\n",
        "difference_result = A.difference(B)\n",
        "print(\"Difference (A - B):\", difference_result)\n",
        "\n",
        "B = A.union(B)\n",
        "print(\"Updated B after union with A:\", B)\n",
        "\n",
        "del A\n",
        "del B\n",
        "del union_result\n",
        "del intersection_result\n",
        "del difference_result\n"
      ]
    },
    {
      "cell_type": "markdown",
      "metadata": {
        "id": "XICUiEOPPYqF"
      },
      "source": [
        "# Dictionary"
      ]
    },
    {
      "cell_type": "markdown",
      "metadata": {
        "id": "g8rKKGWmIZks"
      },
      "source": [
        "*   Python dictionaries use curly braces {} with key-value pairs to organize items.\n",
        "\n",
        "* It is unordered, changeable, and indexed by keys.\n",
        "\n",
        "*   Changeable: You can modify, add, or remove key-value pairs after the dictionary is created.\n",
        "\n",
        "*   No Duplicates (in keys): Each key must be unique; you cannot have duplicate keys, but values can be duplicated.\n",
        "\n",
        "---\n",
        "\n",
        "CRUD Operations:\n",
        "   - Create: `d = {\"one\": 1, \"two\": 2, \"three\": 3}`\n",
        "   - Read: `d[\"one\"]` (This returns the value of the key \"one\".)\n",
        "   - Update: `d[\"one\"] = 10` (This changes the value of the key \"one\" to 10.)\n",
        "   - Delete: `del d[\"one\"]` (This removes the key-value pair with the key \"one\".)"
      ]
    },
    {
      "cell_type": "code",
      "execution_count": null,
      "metadata": {
        "id": "XQAZPAA1Pq5D"
      },
      "outputs": [],
      "source": [
        "# Create an empty dictionary\n",
        "\n",
        "my_dict = dict()"
      ]
    },
    {
      "cell_type": "code",
      "execution_count": null,
      "metadata": {
        "id": "blPp3-W5PWIB"
      },
      "outputs": [],
      "source": [
        "Dict = {\"name\": \"batool\",\n",
        "        \"age\": 23,\n",
        "        \"name\": \"Ahmad\"}\n",
        "print(Dict)"
      ]
    },
    {
      "cell_type": "code",
      "execution_count": null,
      "metadata": {
        "id": "Lwx0sg4-PodM"
      },
      "outputs": [],
      "source": [
        "my_dict = {\"name\": \"Omar\",\n",
        "           \"age\": 30,\n",
        "           \"city\": \"Amman\" ,\n",
        "           \"salary\":30,\n",
        "           \"name\":\"Ammar\"} # note that no key duplicates\n",
        "my_dict"
      ]
    },
    {
      "cell_type": "code",
      "execution_count": null,
      "metadata": {
        "id": "Dx3_rvhWPx27"
      },
      "outputs": [],
      "source": [
        "# Read\n",
        "\n",
        "my_dict = {\"name\": \"Omar\", \"age\": 30, \"city\": \"Amman\"}\n",
        "\n",
        "# access a value\n",
        "print(my_dict['city'])"
      ]
    },
    {
      "cell_type": "code",
      "execution_count": null,
      "metadata": {
        "id": "dSs0SG_lP750"
      },
      "outputs": [],
      "source": [
        "#storing to a variable\n",
        "name = my_dict[\"name\"]\n",
        "print(name)"
      ]
    },
    {
      "cell_type": "code",
      "execution_count": null,
      "metadata": {
        "id": "Adh7kA0oQEEj"
      },
      "outputs": [],
      "source": [
        "# adding a new key-value pair\n",
        "my_dict[\"email\"] = \"omar@gmail.com\"\n",
        "print(my_dict)"
      ]
    },
    {
      "cell_type": "code",
      "execution_count": null,
      "metadata": {
        "id": "pmF8cMQ4QHuG"
      },
      "outputs": [],
      "source": [
        "# Update\n",
        "# updating the value for an existing key\n",
        "my_dict[\"age\"] = 31\n",
        "\n",
        "print(my_dict)"
      ]
    },
    {
      "cell_type": "code",
      "execution_count": null,
      "metadata": {
        "id": "RAfKC4ItQLRQ"
      },
      "outputs": [],
      "source": [
        "# no key duplicates\n",
        "\n",
        "my_dict = {\"name\":\"omar\", \"name\":\"noor\",\"name\":\"abed\", \"Name\":\"karam\"}\n",
        "print(my_dict)"
      ]
    },
    {
      "cell_type": "markdown",
      "metadata": {
        "id": "LOgGOKknQhDj"
      },
      "source": [
        "# Dictionary built-in functions"
      ]
    },
    {
      "cell_type": "code",
      "execution_count": null,
      "metadata": {
        "id": "GSiG1Q8CQMcg"
      },
      "outputs": [],
      "source": [
        "# removing items\n",
        "my_dict = {\"a\": {1,2}, \"b\": 2}\n",
        "value = my_dict.pop(\"b\")\n",
        "\n",
        "print(value)\n",
        "print(my_dict)"
      ]
    },
    {
      "cell_type": "code",
      "execution_count": null,
      "metadata": {
        "id": "7RCTIwiRQqlJ"
      },
      "outputs": [],
      "source": [
        "value = my_dict.pop(\"a\")\n",
        "print(value)"
      ]
    },
    {
      "cell_type": "code",
      "execution_count": null,
      "metadata": {
        "id": "X70cfG5WQtM-"
      },
      "outputs": [],
      "source": [
        "car = {\"brand\": \"Ford\",\"model\": \"Mustang\",\"year\": 1964}\n",
        "\n",
        "new = car.popitem() # removes last key i can't give it anything\n",
        "print(list(new)) # by default it returns a tuple (key,value)\n",
        "print(car)"
      ]
    },
    {
      "cell_type": "code",
      "execution_count": null,
      "metadata": {
        "id": "19ddEHcUQzY2"
      },
      "outputs": [],
      "source": [
        "# Getting All Keys\n",
        "my_dict = {\"name\": \"Omar\", \"age\": 30, \"city\": \"Amman\", \"name\": \"Batool\"}\n",
        "keys = my_dict.keys()\n",
        "print(keys)"
      ]
    },
    {
      "cell_type": "code",
      "execution_count": null,
      "metadata": {
        "id": "asLAhwMjQ195"
      },
      "outputs": [],
      "source": [
        "# How to get all values ?\n",
        "my_dict = {\"name\": [\"Omar\", \"Batool\"], \"age\": [30, 23], \"city\": [\"Amman\", \"Irbid\"]}\n",
        "values = my_dict.values()\n",
        "print(values)"
      ]
    },
    {
      "cell_type": "code",
      "execution_count": null,
      "metadata": {
        "id": "UgR5EaXPQ3UM"
      },
      "outputs": [],
      "source": [
        "# Updating multiple values\n",
        "\n",
        "my_dict = {\"name\": \"Omar\", \"age\": 30, \"city\": \"Amman\"}\n",
        "my_dict.update({\"name\":\"Abed\", \"phone_number\": 555111})\n",
        "print(my_dict)"
      ]
    },
    {
      "cell_type": "code",
      "execution_count": null,
      "metadata": {
        "id": "7sN6NjnKQxQg"
      },
      "outputs": [],
      "source": [
        "# checking if a Key Exists\n",
        "my_dict = {\"name\": \"Omar\", \"age\": 30, \"city\": \"Amman\"}\n",
        "\n",
        "print(\"name\" in my_dict)\n",
        "print(\"phone\" in my_dict)"
      ]
    },
    {
      "cell_type": "markdown",
      "metadata": {
        "id": "-OWh1dzgRKyl"
      },
      "source": [
        "\n",
        "\n",
        "---\n",
        "Task 7:\n",
        "\n",
        "- Create a dictionary named student store his name, course , age with thier associated values\n",
        "- Use update function to edit the age, add another item (phone_number)\n",
        "- Delete the course key\n"
      ]
    },
    {
      "cell_type": "code",
      "execution_count": 12,
      "metadata": {},
      "outputs": [
        {
          "name": "stdout",
          "output_type": "stream",
          "text": [
            "Updated student dictionary: {'name': 'Alice', 'age': 21, 'phone_number': '123-456-7890'}\n"
          ]
        }
      ],
      "source": [
        "student = {\n",
        "    \"name\": \"Alice\",\n",
        "    \"course\": \"Mathematics\",\n",
        "    \"age\": 20\n",
        "}\n",
        "\n",
        "student.update({\n",
        "    \"age\": 21,\n",
        "    \"phone_number\": \"123-456-7890\"\n",
        "})\n",
        "\n",
        "del student[\"course\"]\n",
        "\n",
        "print(\"Updated student dictionary:\", student)\n"
      ]
    },
    {
      "cell_type": "markdown",
      "metadata": {
        "id": "BElmDWn_RfOT"
      },
      "source": [
        "# Great Job 🚀"
      ]
    }
  ],
  "metadata": {
    "colab": {
      "collapsed_sections": [
        "qVZnZlIjDBUQ",
        "WMbPqCPrED6I",
        "BoR3UQTfJQ3I",
        "NUs5SBgMKbnP",
        "GbkufAcWLRD0",
        "zi6-cUQRLxTM",
        "XICUiEOPPYqF",
        "LOgGOKknQhDj"
      ],
      "provenance": []
    },
    "kernelspec": {
      "display_name": "Python 3",
      "name": "python3"
    },
    "language_info": {
      "codemirror_mode": {
        "name": "ipython",
        "version": 3
      },
      "file_extension": ".py",
      "mimetype": "text/x-python",
      "name": "python",
      "nbconvert_exporter": "python",
      "pygments_lexer": "ipython3",
      "version": "3.13.5"
    }
  },
  "nbformat": 4,
  "nbformat_minor": 0
}
