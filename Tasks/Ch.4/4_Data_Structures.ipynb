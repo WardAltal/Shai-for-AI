{
  "nbformat": 4,
  "nbformat_minor": 0,
  "metadata": {
    "colab": {
      "provenance": [],
      "collapsed_sections": [
        "qVZnZlIjDBUQ",
        "WMbPqCPrED6I",
        "BoR3UQTfJQ3I",
        "NUs5SBgMKbnP",
        "GbkufAcWLRD0",
        "zi6-cUQRLxTM",
        "XICUiEOPPYqF",
        "LOgGOKknQhDj"
      ]
    },
    "kernelspec": {
      "name": "python3",
      "display_name": "Python 3"
    },
    "language_info": {
      "name": "python"
    }
  },
  "cells": [
    {
      "cell_type": "markdown",
      "source": [
        "# Data Structures\n",
        "\n",
        "This Notebook includes the following contents:\n",
        "\n",
        "* list\n",
        "  \n",
        "  -- `CRUD`\n",
        "\n",
        "* list built-in functions\n",
        "\n",
        "  -- `append()` , `insert()` , `extend()` , `remove()` , `pop()` , `sort()` , `reverse()` , `in` , `index()` , `max()` , `min()` , `sum()`\n",
        "\n",
        "* Nested Lists\n",
        "* Tuples\n",
        "* Sets\n",
        "* Set built-in functions\n",
        "\n",
        "  -- `add()` , `update()` , `pop()` , `remove()` , `discard()` , `union()` , `intersection()` , `difference()` , `symmetric_difference()` , `in`\n",
        "\n",
        "* Dictionary\n",
        "* Dictionary built-in functions\n",
        "\n",
        "  -- `pop()` , `popitem()` , `keys()` , `values()` , `update()` , `in`\n"
      ],
      "metadata": {
        "id": "m9NFqxtz5AEl"
      }
    },
    {
      "cell_type": "markdown",
      "source": [
        "# Lists"
      ],
      "metadata": {
        "id": "qVZnZlIjDBUQ"
      }
    },
    {
      "cell_type": "markdown",
      "source": [
        "* Lists are one of the most versatile data structures in Python. A list can contain any sort of object: numbers, strings, and even other lists.\n",
        "\n",
        "* Lists are mutable, meaning they can be modified after they are created.\n",
        "\n",
        "* We can create a list by enclosing a comma-separated sequence of elements in square brackets [ ].\n",
        "\n",
        "*   Ordered: The items in a list have a specific order, and that order doesn't change unless you modify the list.\n",
        "\n",
        "*   Changable: You can change, add, or remove items after the list is created.\n",
        "\n",
        "*   Allows Duplicates: Lists can have items that are the same, so duplicates are allowed.\n",
        "\n",
        "\n",
        "---\n",
        "CRUD Operations\n",
        "   - Create: `lst = [1, 2, 3, 4, 5]`\n",
        "   - Read: `lst[0]` (This returns the first element of the list.)\n",
        "   - Update: `lst[0] = 10` (This changes the first element to 10.)\n",
        "   - Delete: `del lst[0]` (This removes the first element from the list.)"
      ],
      "metadata": {
        "id": "hWKNQJsdhf5Z"
      }
    },
    {
      "cell_type": "code",
      "source": [
        "lst=[0,1,2,3]\n",
        "lst[0]=10"
      ],
      "metadata": {
        "id": "ZAYmnf_CMDNH"
      },
      "execution_count": null,
      "outputs": []
    },
    {
      "cell_type": "code",
      "source": [
        "# Create an empty list\n",
        "my_list = list()"
      ],
      "metadata": {
        "id": "ZAwz0gkiC5oj"
      },
      "execution_count": null,
      "outputs": []
    },
    {
      "cell_type": "code",
      "source": [
        "# list creation\n",
        "items = [\"Banana\", \"Apple\" , \"Mango\", \"Banana\"]\n",
        "print(type(items))\n",
        "print(f\"items are {items}\")"
      ],
      "metadata": {
        "id": "xAA8i0rcDMiW"
      },
      "execution_count": null,
      "outputs": []
    },
    {
      "cell_type": "code",
      "source": [
        "# Count the number of elements inside the list\n",
        "items = [\"Banana\", \"Apple\" , \"Mango\", \"Banana\"]\n",
        "print(f\"the number of elements inside the list is {len(items)}\")"
      ],
      "metadata": {
        "id": "XMtPugEODQv6"
      },
      "execution_count": null,
      "outputs": []
    },
    {
      "cell_type": "code",
      "source": [
        "#Read\n",
        "items = [\"Banana\", \"Apple\" , \"Mango\", \"Apple\"]\n",
        "print(items[0])"
      ],
      "metadata": {
        "id": "i-o4T341DR36"
      },
      "execution_count": null,
      "outputs": []
    },
    {
      "cell_type": "code",
      "source": [
        "items = [\"Banana\", \"Apple\" , \"Mango\", \"Apple\"]\n",
        "\n",
        "# Accessing Elements\n",
        "\n",
        "# to access the first element\n",
        "print(\"first element is:\", items[0]) # Indexing in python starts at zero NOT ONE\n",
        "print(\"--------------------------------------------------\")\n",
        "\n",
        "# of course we can store it in a varibale\n",
        "first_item = items[0] # ?\n",
        "print(f\"first element is {first_item}\")\n",
        "print(\"--------------------------------------------------\")\n",
        "\n",
        "# to access the last element\n",
        "print(f\"last element is {items[-1]}\")\n",
        "print(\"--------------------------------------------------\")\n",
        "# store it in a variable\n",
        "\n",
        "last_item = items[-1]\n",
        "print(f\"last element is {last_item}\")\n",
        "print(\"--------------------------------------------------\")"
      ],
      "metadata": {
        "id": "VhiGWCi3Disd"
      },
      "execution_count": null,
      "outputs": []
    },
    {
      "cell_type": "code",
      "source": [
        "# Slicing list we use : to slice\n",
        "print(f\"subset items {items[:2]}\") # note that it starts from zero until one (2 - 1)\n",
        "print(\"--------------------------------------------------\")\n",
        "# store it in a variable\n",
        "sub_items = items[:2]\n",
        "\n",
        "print(f\"subset items {sub_items}\")\n",
        "print(\"--------------------------------------------------\")\n",
        "print(f\"subset items {items[-3:-1]}\")"
      ],
      "metadata": {
        "id": "B6Rcz3JPDvZN"
      },
      "execution_count": null,
      "outputs": []
    },
    {
      "cell_type": "code",
      "source": [
        "# Update\n",
        "items = [10,\"bob\", 45.5, True, \"$\", 500, 0]\n",
        "items[0] = \"batool\"\n",
        "print(items)"
      ],
      "metadata": {
        "id": "3mVqPqR_FvEh"
      },
      "execution_count": null,
      "outputs": []
    },
    {
      "cell_type": "code",
      "source": [
        "# updating elements\n",
        "\n",
        "#update the first element\n",
        "items[0] = 12\n",
        "print(f\"items after updating first element ---> {items}\")"
      ],
      "metadata": {
        "id": "FOpupKSuJGTU"
      },
      "execution_count": null,
      "outputs": []
    },
    {
      "cell_type": "code",
      "source": [
        "# update multiple elements\n",
        "\n",
        "items[1:3] = [13, \"desk\"]\n",
        "print(f\"items after updating multiple elements ---> {items}\")"
      ],
      "metadata": {
        "id": "i5WrbCa_JJZo"
      },
      "execution_count": null,
      "outputs": []
    },
    {
      "cell_type": "code",
      "source": [
        "# Delete element/s\n",
        "\n",
        "del items[0]\n",
        "print(items)"
      ],
      "metadata": {
        "id": "VUi3_9GFF5g7"
      },
      "execution_count": null,
      "outputs": []
    },
    {
      "cell_type": "code",
      "source": [
        "# Delete list\n",
        "\n",
        "lst = [1,2,3]\n",
        "del lst"
      ],
      "metadata": {
        "id": "x9wfQesPGO9K"
      },
      "execution_count": null,
      "outputs": []
    },
    {
      "cell_type": "markdown",
      "source": [
        "\n",
        "\n",
        "---\n",
        "\n",
        "\n",
        "Task #1:\n",
        "\n",
        "Define a list of 6 items and print the number of items inside the list, second element, second last element and use slicing to print out the second element until the third one.\n",
        "\n",
        "---\n",
        "\n"
      ],
      "metadata": {
        "id": "hepwLLwnD0WU"
      }
    },
    {
      "cell_type": "markdown",
      "source": [
        "# list built-in functions"
      ],
      "metadata": {
        "id": "WMbPqCPrED6I"
      }
    },
    {
      "cell_type": "code",
      "source": [
        "items = [10,\"bob\", 45.5, True, \"$\", 500, 0]"
      ],
      "metadata": {
        "id": "aIpJToALEFB0"
      },
      "execution_count": null,
      "outputs": []
    },
    {
      "cell_type": "code",
      "source": [
        "# Adding elements to lists using (append)\n",
        "\n",
        "items.append(30) # note that you can't append multiple items and it appends to the end of the list\n",
        "print(f\"items after appending ---> {items}\")"
      ],
      "metadata": {
        "id": "zoXC8QfLENr8"
      },
      "execution_count": null,
      "outputs": []
    },
    {
      "cell_type": "code",
      "source": [
        "# Adding element into a certain position (insert)\n",
        "\n",
        "items.insert(2, \"friends\")\n",
        "print(f\"items after inserting ---> {items}\")"
      ],
      "metadata": {
        "id": "MCAdo5WvEQX2"
      },
      "execution_count": null,
      "outputs": []
    },
    {
      "cell_type": "code",
      "source": [
        "# Add multi-elements to end the list (extend)\n",
        "\n",
        "items.extend([6, 1, True])\n",
        "print(f\"items after extending ---> {items}\")"
      ],
      "metadata": {
        "id": "Us7IMoXFERnH"
      },
      "execution_count": null,
      "outputs": []
    },
    {
      "cell_type": "code",
      "source": [
        "# removing items\n",
        "\n",
        "items.remove(\"bob\") # it removes only one element\n",
        "print(f\"items after removing ---> {items}\")"
      ],
      "metadata": {
        "id": "Jhhsx8jeEVMp"
      },
      "execution_count": null,
      "outputs": []
    },
    {
      "cell_type": "code",
      "source": [
        "# removing items\n",
        "\n",
        "items.pop() # by default it removes the last item\n",
        "print(f\"items after removing using pop function ---> {items}\")"
      ],
      "metadata": {
        "id": "vgeOcHZOEfMr"
      },
      "execution_count": null,
      "outputs": []
    },
    {
      "cell_type": "code",
      "source": [
        "# Note that you can store the popped value into a variable\n",
        "popped_value = items.pop()\n",
        "\n",
        "print(f\"popped value is {popped_value}\")\n",
        "print(\"--------------------------------------\")\n",
        "print(f\"items after removing using pop function ---> {items}\")"
      ],
      "metadata": {
        "id": "pGEYhyiiElF2"
      },
      "execution_count": null,
      "outputs": []
    },
    {
      "cell_type": "code",
      "source": [
        "batool = [\"buy coffee\", \"call mom\", \"finish report\"]"
      ],
      "metadata": {
        "id": "bwvhAuGXEn7v"
      },
      "execution_count": null,
      "outputs": []
    },
    {
      "cell_type": "code",
      "source": [
        "print(batool.pop())\n",
        "print(batool)"
      ],
      "metadata": {
        "id": "H68HDFnEEq2W"
      },
      "execution_count": null,
      "outputs": []
    },
    {
      "cell_type": "code",
      "source": [
        "# why pop ?\n",
        "\n",
        "items = [\"buy coffee\", \"call mom\", \"finish report\"]\n",
        "popped_item = items.pop(1)\n",
        "\n",
        "print(popped_item)\n",
        "\n",
        "print(items)\n",
        "x = items.pop(0)\n",
        "print(x)\n",
        "print(items)"
      ],
      "metadata": {
        "id": "7L1cV6bFEtf7"
      },
      "execution_count": null,
      "outputs": []
    },
    {
      "cell_type": "markdown",
      "source": [
        "\n",
        "\n",
        "---\n",
        "\n",
        "Task #2:\n",
        "\n",
        "Define a list of numbers [1,2,3] and then use append method to add 4 and use insert to add 5 at position 1 expected output [1,5,2,3,4]\n",
        "\n",
        "\n",
        "---\n",
        "\n"
      ],
      "metadata": {
        "id": "PebjZXgYEyFQ"
      }
    },
    {
      "cell_type": "code",
      "source": [
        "# sorting lists\n",
        "my_list = [100,4,2,50,87,95]\n",
        "\n",
        "# Sorting using sort() function\n",
        "my_list.sort()\n",
        "print(f\"after sorting ---> {my_list} \")"
      ],
      "metadata": {
        "id": "8TKCNMvLFExf"
      },
      "execution_count": null,
      "outputs": []
    },
    {
      "cell_type": "code",
      "source": [
        "my_list.sort(reverse= True)\n",
        "print(f\"after sorting ---> {my_list} \")"
      ],
      "metadata": {
        "id": "YjDPR328FKLA"
      },
      "execution_count": null,
      "outputs": []
    },
    {
      "cell_type": "code",
      "source": [
        "names = [\"Omar\", \"Mohammad\", \"Ammar\"]\n",
        "names.sort()\n",
        "print(names)"
      ],
      "metadata": {
        "id": "LZx9Fj_1FPK-"
      },
      "execution_count": null,
      "outputs": []
    },
    {
      "cell_type": "code",
      "source": [
        "# Reverse list\n",
        "lst = [3,2,3,10,5,7]\n",
        "\n",
        "lst.reverse()\n",
        "print(lst)"
      ],
      "metadata": {
        "id": "gCVEcfZJFSCo"
      },
      "execution_count": null,
      "outputs": []
    },
    {
      "cell_type": "code",
      "source": [
        "# Check if a specific element exists in a list\n",
        "values = [\"data\" , 'sql', 'ML']\n",
        "\n",
        "print(\"data\" in values)\n",
        "print(\"python\" in values)\n",
        "print(\"DATA\" in values)"
      ],
      "metadata": {
        "id": "H22FDYfzFVAF"
      },
      "execution_count": null,
      "outputs": []
    },
    {
      "cell_type": "code",
      "source": [
        "# Find the index of a specific element in list\n",
        "\n",
        "values = [\"data\" , 'sql', 'ML']\n",
        "print(values.index(\"data\"))"
      ],
      "metadata": {
        "id": "Wdsa4-d8FXlZ"
      },
      "execution_count": null,
      "outputs": []
    },
    {
      "cell_type": "code",
      "source": [
        "# another built-in functions\n",
        "\n",
        "lst = [20,10,15]\n",
        "\n",
        "# sum : to sum the elements\n",
        "\n",
        "print(\"sum of elements is \", sum(lst))\n",
        "\n",
        "# max: max number of the list\n",
        "max_lst = max(lst)\n",
        "print(f\"maximum number is {max_lst}\")\n",
        "\n",
        "# min: min number of the list\n",
        "min_lst = min(lst)\n",
        "print(f\"minimum number is {min_lst}\")"
      ],
      "metadata": {
        "id": "3gaOV_kZKBlW"
      },
      "execution_count": null,
      "outputs": []
    },
    {
      "cell_type": "markdown",
      "source": [
        "# Nested List"
      ],
      "metadata": {
        "id": "BoR3UQTfJQ3I"
      }
    },
    {
      "cell_type": "code",
      "source": [
        "lst = [1, [4,5,6] , [\"mark\" , 'bob', 'ross']]\n",
        "\n",
        "print(lst[1][1])"
      ],
      "metadata": {
        "id": "3n1t48wkJTyg"
      },
      "execution_count": null,
      "outputs": []
    },
    {
      "cell_type": "code",
      "source": [
        "# Schedule for a week\n",
        "schedule = [\n",
        "    [\"Meeting with team\", \"Code review\", \"Lunch with client\"], # Sunday\n",
        "    [\"Project planning\", \"Write documentation\"],               # Monday\n",
        "    [\"Development\", \"Team stand-up\", \"Client call\"],           # Tuesday\n",
        "    [\"Testing\", \"Bug fixing\", \"Team meeting\"],                 # Wednesday\n",
        "    [\"Deployment\", \"Write report\"],                            # Thursday\n",
        "    [\"Weekend break\"],                                         # Friday\n",
        "    [\"Weekend break\"]                                          # Saturday\n",
        "]\n",
        "\n",
        "# accessing tasks for a specific day\n",
        "Tuesday_tasks = schedule[2]\n",
        "print(\"Tuesday's tasks:\", Tuesday_tasks)"
      ],
      "metadata": {
        "id": "mKWMb9v5JdIE"
      },
      "execution_count": null,
      "outputs": []
    },
    {
      "cell_type": "code",
      "source": [
        "# adding a new task to Wednesday\n",
        "schedule[3].append(\"Prepare presentation\")\n",
        "print(\"Wednesday's updated tasks:\", schedule[3])"
      ],
      "metadata": {
        "id": "sZJrEfjxJhbr"
      },
      "execution_count": null,
      "outputs": []
    },
    {
      "cell_type": "code",
      "source": [
        "# removing a task from Sunday\n",
        "schedule[0].remove(\"Lunch with client\")\n",
        "print(\"Sunday's updated tasks:\", schedule)"
      ],
      "metadata": {
        "id": "b9jaENmtJjLk"
      },
      "execution_count": null,
      "outputs": []
    },
    {
      "cell_type": "markdown",
      "source": [
        "\n",
        "\n",
        "---\n",
        "\n",
        "Task #3:\n",
        "\n",
        "You have the following nested list: nested_list = [[1, 2, 3], [4, 5, 6], [7, 8, 9]]\n",
        "\n",
        "\n",
        "1.   Access the number 5 from the nested list and assign it to a variable named number, print the variable number.\n",
        "2.   Append number 10 to the last list inside nested_list, Print the updated nested_list."
      ],
      "metadata": {
        "id": "TdEEMUP8Jovt"
      }
    },
    {
      "cell_type": "markdown",
      "source": [
        "# Tuples"
      ],
      "metadata": {
        "id": "NUs5SBgMKbnP"
      }
    },
    {
      "cell_type": "markdown",
      "source": [
        "*   Python tuples use parentheses () to contain and organize items.\n",
        "\n",
        "*   Ordered: Items are arranged in a specific sequence.\n",
        "\n",
        "*  Unchangeable: Once created, you cannot modify, add, or remove items in a tuple.\n",
        "\n",
        "*   Allows Duplicates: You can have multiple identical items in a tuple.\n",
        "\n",
        "\n",
        "---\n",
        "CRUD Operations\n",
        "   - Create: `t = (1, 2, 3, 4, 5)`\n",
        "   - Read: `t[0]` (This returns the first element of the tuple.)\n",
        "   - Update: Tuples are immutable, so they cannot be updated. However, we can concatenate them or reassign the variable.\n",
        "   - Delete: `del t` (You can't delete an element of a tuple, but you can delete the entire tuple.)\n"
      ],
      "metadata": {
        "id": "ig6nXm3WHVha"
      }
    },
    {
      "cell_type": "code",
      "source": [
        "# Create an empty tuple\n",
        "\n",
        "my_tuple = tuple()"
      ],
      "metadata": {
        "id": "PzaVuhkJKfk_"
      },
      "execution_count": null,
      "outputs": []
    },
    {
      "cell_type": "code",
      "source": [
        "# Create Tuple\n",
        "\n",
        "contact = (\"abed\", \"555-1234\", \"abed@gmail.com\",1)\n",
        "print(contact)\n",
        "print(type(contact))"
      ],
      "metadata": {
        "id": "_LhHyqOyJ7gx"
      },
      "execution_count": null,
      "outputs": []
    },
    {
      "cell_type": "code",
      "source": [
        "# Read\n",
        "\n",
        "print(contact[0])\n",
        "print(type(contact[0]))"
      ],
      "metadata": {
        "id": "L9zx7sXqKsY0"
      },
      "execution_count": null,
      "outputs": []
    },
    {
      "cell_type": "code",
      "source": [
        "# no update --> cannot modify"
      ],
      "metadata": {
        "id": "Jc6GLkNAKwq6"
      },
      "execution_count": null,
      "outputs": []
    },
    {
      "cell_type": "code",
      "source": [
        "# Check if element exists\n",
        "contact = (\"abed\", \"555-1234\", \"abed@gmail.com\")\n",
        "print(\"abed\" in contact)\n",
        "print(\"Abed\" in contact)"
      ],
      "metadata": {
        "id": "OOcu4fUKK8M3"
      },
      "execution_count": null,
      "outputs": []
    },
    {
      "cell_type": "code",
      "source": [
        "# delete tuple\n",
        "\n",
        "my_tuple =(1,2,3)\n",
        "del my_tuple"
      ],
      "metadata": {
        "id": "qW9BULPoK_KZ"
      },
      "execution_count": null,
      "outputs": []
    },
    {
      "cell_type": "markdown",
      "source": [
        "\n",
        "\n",
        "---\n",
        "\n",
        "\n",
        "Task #4:\n",
        "\n",
        "Create a tuple and print the last element\n",
        "\n",
        "\n",
        "---\n",
        "\n"
      ],
      "metadata": {
        "id": "G8qsZmGdLGF4"
      }
    },
    {
      "cell_type": "markdown",
      "source": [
        "# Sets"
      ],
      "metadata": {
        "id": "GbkufAcWLRD0"
      }
    },
    {
      "cell_type": "markdown",
      "source": [
        "*   Python sets use curly braces {} to contain and organize items.\n",
        "*   Unordered: Items have no specific sequence.\n",
        "\n",
        "\n",
        "*   Unchangeable (in terms of items): Once added, individual items cannot be changed, but you can add or remove items from the set as a whole.\n",
        "*   No Duplicates: Sets automatically remove duplicate items, so each item is unique.\n",
        "\n",
        "\n",
        "---\n",
        "CRUD Operations:\n",
        "   - Create: `st = {1, 2, 3, 4, 5}`\n",
        "   - Read: We can't access or change an element of a set using indexing or slicing due to the unordered nature of sets. We can loop through the set or check if an item exists.\n",
        "   - Update: `st.add(6)` (This adds element 6 to the set.); `st.update([7, 8])` (This adds elements 7 and 8 to the set.)\n",
        "   - Delete: `st.remove(1)` (This removes element 1 from the set. If the item does not exist, it raises an error.); `st.discard(2)` (This removes element 2 from the set. If the item does not exist, it does not raise an error.)\n"
      ],
      "metadata": {
        "id": "hUY2CiugHqa8"
      }
    },
    {
      "cell_type": "code",
      "source": [
        "# Set Creation\n",
        "my_set = { 2, 3, 2, 1 , 1 , 1 , 1 , 1 , 1}\n",
        "print(my_set)"
      ],
      "metadata": {
        "id": "A61qUtQYLcqt"
      },
      "execution_count": null,
      "outputs": []
    },
    {
      "cell_type": "markdown",
      "source": [
        "# Set built-in functions"
      ],
      "metadata": {
        "id": "zi6-cUQRLxTM"
      }
    },
    {
      "cell_type": "code",
      "source": [
        "# adding elements\n",
        "courses = {\"DL\",\"ML\",\"Python\"}\n",
        "print(courses)\n",
        "\n",
        "courses.add(\"SQL\")\n",
        "courses.add(\"ML\") # won't be added because it exists.\n",
        "print(courses)"
      ],
      "metadata": {
        "id": "kb91S41TL8E2"
      },
      "execution_count": null,
      "outputs": []
    },
    {
      "cell_type": "code",
      "source": [
        "my_set = {1, 2, 3}\n",
        "another_set = {4, 5, 6,1}\n",
        "# add multiple elements using update\n",
        "my_set.update(another_set) # no duplicates\n",
        "\n",
        "print(my_set)"
      ],
      "metadata": {
        "id": "VpEFjLY3MTpi"
      },
      "execution_count": null,
      "outputs": []
    },
    {
      "cell_type": "code",
      "source": [
        "another_set.update(my_set)\n",
        "print(another_set)"
      ],
      "metadata": {
        "id": "VdRmTVrQMdkr"
      },
      "execution_count": null,
      "outputs": []
    },
    {
      "cell_type": "code",
      "source": [
        "# Removing elements\n",
        "\n",
        "courses = {\"DL\",\"ML\",\"Python\",\"SQL\"}\n",
        "\n",
        "course = courses.pop()\n",
        "print(course)\n",
        "print(courses)"
      ],
      "metadata": {
        "id": "mzUdl6nfMfTH"
      },
      "execution_count": null,
      "outputs": []
    },
    {
      "cell_type": "code",
      "source": [
        "# Remove a specific element from the set. If the element is not found, it raises a KeyErro\n",
        "my_set = {1, 2, 3, \"SQL\"}\n",
        "my_set.remove(2)\n",
        "print(my_set)"
      ],
      "metadata": {
        "id": "S29XlwbJMjMI"
      },
      "execution_count": null,
      "outputs": []
    },
    {
      "cell_type": "code",
      "source": [
        "my_set.remove(6)"
      ],
      "metadata": {
        "id": "Dx2douhLMlh2"
      },
      "execution_count": null,
      "outputs": []
    },
    {
      "cell_type": "code",
      "source": [
        "# discard(): also removes a specific element from the set. Unlike remove(), it does not raise an error if the element is not found.\n",
        "my_set = {1, \"python\", 2, 3,\"ammar\"}\n",
        "my_set.discard(\"python\")\n",
        "my_set"
      ],
      "metadata": {
        "id": "-ujJFUIhMq8N"
      },
      "execution_count": null,
      "outputs": []
    },
    {
      "cell_type": "code",
      "source": [
        "my_set.discard(6)\n",
        "print(my_set)"
      ],
      "metadata": {
        "id": "xM1oMxS3N9Cj"
      },
      "execution_count": null,
      "outputs": []
    },
    {
      "cell_type": "code",
      "source": [
        "# Combining two sets\n",
        "\n",
        "set1 = {1, 2, 3}\n",
        "set2 = {3, 4, 5}\n",
        "result = set2.union(set1)\n",
        "print(result)"
      ],
      "metadata": {
        "id": "xO6YPXjeOGR6",
        "colab": {
          "base_uri": "https://localhost:8080/"
        },
        "outputId": "03e1e4ff-e3fc-49f7-a0a4-de7ce2f639e9"
      },
      "execution_count": null,
      "outputs": [
        {
          "output_type": "stream",
          "name": "stdout",
          "text": [
            "{1, 2, 3, 4, 5}\n"
          ]
        }
      ]
    },
    {
      "cell_type": "code",
      "source": [
        "# intersection(sets): Returns a new set with elements common to the set and any additional sets provided.\n",
        "set1 = {1, 2, 3}\n",
        "set2 = {2, 3, 4}\n",
        "result = set1.intersection(set2)\n",
        "print(result)"
      ],
      "metadata": {
        "id": "Siqnq-LsOKw-"
      },
      "execution_count": null,
      "outputs": []
    },
    {
      "cell_type": "code",
      "source": [
        "# difference: Returns a new set with elements in the set that are not in any of the additional sets provided\n",
        "set1 = {1, 2, 3}\n",
        "set2 = {2, 3, 4}\n",
        "result = set1.difference(set2)\n",
        "print(result)"
      ],
      "metadata": {
        "id": "SWyqTPqsOLhf",
        "colab": {
          "base_uri": "https://localhost:8080/"
        },
        "outputId": "940345fc-89b2-44b4-e341-87b2193262c2"
      },
      "execution_count": null,
      "outputs": [
        {
          "output_type": "stream",
          "name": "stdout",
          "text": [
            "{1}\n"
          ]
        }
      ]
    },
    {
      "cell_type": "code",
      "source": [
        "result = set2.difference(set1)\n",
        "print(result)"
      ],
      "metadata": {
        "id": "hVMwGT-WOkKv"
      },
      "execution_count": null,
      "outputs": []
    },
    {
      "cell_type": "code",
      "source": [
        "# symmetric_difference: Returns a new set with elements in either the set or the provided set\n",
        "\n",
        "set1 = {1, 2, 3}\n",
        "set2 = {2, 3, 4}\n",
        "result = set1.symmetric_difference(set2)\n",
        "print(result)"
      ],
      "metadata": {
        "id": "EQ_FkXzSOl-H"
      },
      "execution_count": null,
      "outputs": []
    },
    {
      "cell_type": "code",
      "source": [
        "# Check if element exists\n",
        "\n",
        "my_set = {1, 2, 3}\n",
        "a = \"1\" in my_set\n",
        "print(a)"
      ],
      "metadata": {
        "id": "php6f_krOsT9"
      },
      "execution_count": null,
      "outputs": []
    },
    {
      "cell_type": "code",
      "source": [
        "b = 1 in my_set\n",
        "print(b)"
      ],
      "metadata": {
        "id": "7UXjltvQOpWg"
      },
      "execution_count": null,
      "outputs": []
    },
    {
      "cell_type": "code",
      "source": [
        "# delete set\n",
        "my_set = {1,2,3}\n",
        "del my_set"
      ],
      "metadata": {
        "id": "6EmaEq-IOqyn"
      },
      "execution_count": null,
      "outputs": []
    },
    {
      "cell_type": "markdown",
      "source": [
        "\n",
        "\n",
        "---\n",
        "\n",
        "Task 5:\n",
        "\n",
        "Create and Add Elements to a Set\n",
        "\n",
        "\n",
        "*   Create an empty set named my_set\n",
        "*   Add the elements 1, 2, and 3 to my_set\n",
        "*   Print the updated set\n",
        "\n",
        "\n",
        "---\n",
        "\n",
        "\n",
        "Task 6:\n",
        "\n",
        "Check element in a Set\n",
        "\n",
        "\n",
        "*   Create set named my_set with the elements 1, 2, 3, and 4\n",
        "*   Check if the element 2 is in my_set and print the result\n",
        "*   Check if the element 5 is in my_set and print the result\n",
        "---\n",
        "\n",
        "\n",
        "\n",
        "Task 7\n",
        "* create 2 sets A , B\n",
        " --> A {'red' , 'blue' , 'green'}\n",
        " --> B {'red', 'pink' , 'yellow'}\n",
        "\n",
        " and apply the folowing\n",
        "\n",
        " * Apply union and print the result\n",
        "\n",
        " * Apply intersection and print the result\n",
        "\n",
        " * Apply difference and pring the result\n",
        "\n",
        " * Apply union and save the value on B set\n",
        "\n",
        " * delete all sets"
      ],
      "metadata": {
        "id": "lfDlwjVaO4jh"
      }
    },
    {
      "cell_type": "markdown",
      "source": [
        "# Dictionary"
      ],
      "metadata": {
        "id": "XICUiEOPPYqF"
      }
    },
    {
      "cell_type": "markdown",
      "source": [
        "*   Python dictionaries use curly braces {} with key-value pairs to organize items.\n",
        "\n",
        "* It is unordered, changeable, and indexed by keys.\n",
        "\n",
        "*   Changeable: You can modify, add, or remove key-value pairs after the dictionary is created.\n",
        "\n",
        "*   No Duplicates (in keys): Each key must be unique; you cannot have duplicate keys, but values can be duplicated.\n",
        "\n",
        "---\n",
        "\n",
        "CRUD Operations:\n",
        "   - Create: `d = {\"one\": 1, \"two\": 2, \"three\": 3}`\n",
        "   - Read: `d[\"one\"]` (This returns the value of the key \"one\".)\n",
        "   - Update: `d[\"one\"] = 10` (This changes the value of the key \"one\" to 10.)\n",
        "   - Delete: `del d[\"one\"]` (This removes the key-value pair with the key \"one\".)"
      ],
      "metadata": {
        "id": "g8rKKGWmIZks"
      }
    },
    {
      "cell_type": "code",
      "source": [
        "# Create an empty dictionary\n",
        "\n",
        "my_dict = dict()"
      ],
      "metadata": {
        "id": "XQAZPAA1Pq5D"
      },
      "execution_count": null,
      "outputs": []
    },
    {
      "cell_type": "code",
      "source": [
        "Dict = {\"name\": \"batool\",\n",
        "        \"age\": 23,\n",
        "        \"name\": \"Ahmad\"}\n",
        "print(Dict)"
      ],
      "metadata": {
        "id": "blPp3-W5PWIB"
      },
      "execution_count": null,
      "outputs": []
    },
    {
      "cell_type": "code",
      "source": [
        "my_dict = {\"name\": \"Omar\",\n",
        "           \"age\": 30,\n",
        "           \"city\": \"Amman\" ,\n",
        "           \"salary\":30,\n",
        "           \"name\":\"Ammar\"} # note that no key duplicates\n",
        "my_dict"
      ],
      "metadata": {
        "id": "Lwx0sg4-PodM"
      },
      "execution_count": null,
      "outputs": []
    },
    {
      "cell_type": "code",
      "source": [
        "# Read\n",
        "\n",
        "my_dict = {\"name\": \"Omar\", \"age\": 30, \"city\": \"Amman\"}\n",
        "\n",
        "# access a value\n",
        "print(my_dict['city'])"
      ],
      "metadata": {
        "id": "Dx3_rvhWPx27"
      },
      "execution_count": null,
      "outputs": []
    },
    {
      "cell_type": "code",
      "source": [
        "#storing to a variable\n",
        "name = my_dict[\"name\"]\n",
        "print(name)"
      ],
      "metadata": {
        "id": "dSs0SG_lP750"
      },
      "execution_count": null,
      "outputs": []
    },
    {
      "cell_type": "code",
      "source": [
        "# adding a new key-value pair\n",
        "my_dict[\"email\"] = \"omar@gmail.com\"\n",
        "print(my_dict)"
      ],
      "metadata": {
        "id": "Adh7kA0oQEEj"
      },
      "execution_count": null,
      "outputs": []
    },
    {
      "cell_type": "code",
      "source": [
        "# Update\n",
        "# updating the value for an existing key\n",
        "my_dict[\"age\"] = 31\n",
        "\n",
        "print(my_dict)"
      ],
      "metadata": {
        "id": "pmF8cMQ4QHuG"
      },
      "execution_count": null,
      "outputs": []
    },
    {
      "cell_type": "code",
      "source": [
        "# no key duplicates\n",
        "\n",
        "my_dict = {\"name\":\"omar\", \"name\":\"noor\",\"name\":\"abed\", \"Name\":\"karam\"}\n",
        "print(my_dict)"
      ],
      "metadata": {
        "id": "RAfKC4ItQLRQ"
      },
      "execution_count": null,
      "outputs": []
    },
    {
      "cell_type": "markdown",
      "source": [
        "# Dictionary built-in functions"
      ],
      "metadata": {
        "id": "LOgGOKknQhDj"
      }
    },
    {
      "cell_type": "code",
      "source": [
        "# removing items\n",
        "my_dict = {\"a\": {1,2}, \"b\": 2}\n",
        "value = my_dict.pop(\"b\")\n",
        "\n",
        "print(value)\n",
        "print(my_dict)"
      ],
      "metadata": {
        "id": "GSiG1Q8CQMcg"
      },
      "execution_count": null,
      "outputs": []
    },
    {
      "cell_type": "code",
      "source": [
        "value = my_dict.pop(\"a\")\n",
        "print(value)"
      ],
      "metadata": {
        "id": "7RCTIwiRQqlJ"
      },
      "execution_count": null,
      "outputs": []
    },
    {
      "cell_type": "code",
      "source": [
        "car = {\"brand\": \"Ford\",\"model\": \"Mustang\",\"year\": 1964}\n",
        "\n",
        "new = car.popitem() # removes last key i can't give it anything\n",
        "print(list(new)) # by default it returns a tuple (key,value)\n",
        "print(car)"
      ],
      "metadata": {
        "id": "X70cfG5WQtM-"
      },
      "execution_count": null,
      "outputs": []
    },
    {
      "cell_type": "code",
      "source": [
        "# Getting All Keys\n",
        "my_dict = {\"name\": \"Omar\", \"age\": 30, \"city\": \"Amman\", \"name\": \"Batool\"}\n",
        "keys = my_dict.keys()\n",
        "print(keys)"
      ],
      "metadata": {
        "id": "19ddEHcUQzY2"
      },
      "execution_count": null,
      "outputs": []
    },
    {
      "cell_type": "code",
      "source": [
        "# How to get all values ?\n",
        "my_dict = {\"name\": [\"Omar\", \"Batool\"], \"age\": [30, 23], \"city\": [\"Amman\", \"Irbid\"]}\n",
        "values = my_dict.values()\n",
        "print(values)"
      ],
      "metadata": {
        "id": "asLAhwMjQ195"
      },
      "execution_count": null,
      "outputs": []
    },
    {
      "cell_type": "code",
      "source": [
        "# Updating multiple values\n",
        "\n",
        "my_dict = {\"name\": \"Omar\", \"age\": 30, \"city\": \"Amman\"}\n",
        "my_dict.update({\"name\":\"Abed\", \"phone_number\": 555111})\n",
        "print(my_dict)"
      ],
      "metadata": {
        "id": "UgR5EaXPQ3UM"
      },
      "execution_count": null,
      "outputs": []
    },
    {
      "cell_type": "code",
      "source": [
        "# checking if a Key Exists\n",
        "my_dict = {\"name\": \"Omar\", \"age\": 30, \"city\": \"Amman\"}\n",
        "\n",
        "print(\"name\" in my_dict)\n",
        "print(\"phone\" in my_dict)"
      ],
      "metadata": {
        "id": "7sN6NjnKQxQg"
      },
      "execution_count": null,
      "outputs": []
    },
    {
      "cell_type": "markdown",
      "source": [
        "\n",
        "\n",
        "---\n",
        "Task 7:\n",
        "\n",
        "- Create a dictionary named student store his name, course , age with thier associated values\n",
        "- Use update function to edit the age, add another item (phone_number)\n",
        "- Delete the course key\n"
      ],
      "metadata": {
        "id": "-OWh1dzgRKyl"
      }
    },
    {
      "cell_type": "markdown",
      "source": [
        "# Great Job 🚀"
      ],
      "metadata": {
        "id": "BElmDWn_RfOT"
      }
    }
  ]
}