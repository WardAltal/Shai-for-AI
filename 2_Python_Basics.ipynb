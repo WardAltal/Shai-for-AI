{
  "cells": [
    {
      "cell_type": "markdown",
      "metadata": {
        "id": "m9NFqxtz5AEl"
      },
      "source": [
        "# Python Basics\n",
        "\n",
        "This Notebook includes the code snippets for basic Python. This includes the following contents:\n",
        "\n",
        "* print()\n",
        "* Comments and docstrings\n",
        "* Variables and assignment\n",
        "* Data Types\n",
        "* CRUD Operations\n",
        "* Casting\n",
        "* Arithmetic operations\n",
        "* Comparison operations\n",
        "* Logic operations\n",
        "* Order of operations\n",
        "* User input\n",
        "* Format\n",
        "* String operations\n",
        "\n"
      ]
    },
    {
      "cell_type": "markdown",
      "metadata": {
        "id": "lMrwLJQL5vwY"
      },
      "source": [
        "# print()\n"
      ]
    },
    {
      "cell_type": "markdown",
      "metadata": {
        "id": "Fn_09dEgDBR5"
      },
      "source": [
        "* Let us start our Python journey with the famous Hello World! program. The goal of this program is to print out to standard output the phrase \"Hello World!\". To do so, just pass what you want to print in a `print()` function."
      ]
    },
    {
      "cell_type": "code",
      "execution_count": 18,
      "metadata": {
        "id": "NxYhQzvE5-c3"
      },
      "outputs": [
        {
          "name": "stdout",
          "output_type": "stream",
          "text": [
            "Hello World!\n"
          ]
        }
      ],
      "source": [
        "print(\"Hello World!\")"
      ]
    },
    {
      "cell_type": "markdown",
      "metadata": {
        "id": "ME9laIAy8W1Q"
      },
      "source": [
        "\n",
        "\n",
        "---\n",
        "\n",
        "Task #1\n",
        "\n",
        "Use the print function to display your name, age, and favorite color on separate lines.\n",
        "\n",
        "\n",
        "---\n",
        "\n"
      ]
    },
    {
      "cell_type": "code",
      "execution_count": 19,
      "metadata": {
        "id": "xJ6A5Xyn8V1C"
      },
      "outputs": [
        {
          "name": "stdout",
          "output_type": "stream",
          "text": [
            "Name: Ward\n",
            "Age: 23\n",
            "Favorite Color: Black\n"
          ]
        }
      ],
      "source": [
        "print(\"Name: Ward\", \"Age: 23\", \"Favorite Color: Black\", sep=\"\\n\")\n"
      ]
    },
    {
      "cell_type": "markdown",
      "metadata": {
        "id": "JFBDGE5T9RPG"
      },
      "source": [
        "# Comments and docstrings"
      ]
    },
    {
      "cell_type": "markdown",
      "metadata": {
        "id": "bPispOb7DIEm"
      },
      "source": [
        "- In Python, comments are a way to include notes or explanations in your code that are ignored by the Python interpreter when the code runs.\n",
        "\n",
        "- Comments and docstrings are used to make our code more readable and easy to understand.\n",
        "\n",
        "- They’re useful for documenting what your code is doing, making it easier for others (or yourself) to understand it later.\n",
        "\n",
        "- Comments can be on separate lines or inline with code. For inline comments, PEP 8 recommends keeping two spaces.\n",
        "\n",
        "- Docstrings are used mainly for documenting functions, classes, and modules."
      ]
    },
    {
      "cell_type": "code",
      "execution_count": 10,
      "metadata": {
        "id": "qh-IyWg1-f_I"
      },
      "outputs": [
        {
          "name": "stdout",
          "output_type": "stream",
          "text": [
            "Hello World!\n"
          ]
        }
      ],
      "source": [
        "# this line of code will print \"Hello World!\" to the output\n",
        "print(\"Hello World!\")"
      ]
    },
    {
      "cell_type": "code",
      "execution_count": 11,
      "metadata": {
        "id": "s1nETlB_-g-n"
      },
      "outputs": [],
      "source": [
        "# if your comment is too long\n",
        "# use multiple lines"
      ]
    },
    {
      "cell_type": "code",
      "execution_count": 12,
      "metadata": {
        "id": "AJqCZ_3h-0HZ"
      },
      "outputs": [
        {
          "name": "stdout",
          "output_type": "stream",
          "text": [
            "23\n"
          ]
        }
      ],
      "source": [
        "\"\"\"\n",
        "This is a multi-line comment\n",
        "spanning multiple lines.\n",
        "It is actually a multi-line string\n",
        "that is not assigned to any variable.\n",
        "\"\"\"\n",
        "print(23)"
      ]
    },
    {
      "cell_type": "code",
      "execution_count": 13,
      "metadata": {
        "id": "mDpy2HBO-mtv"
      },
      "outputs": [
        {
          "name": "stdout",
          "output_type": "stream",
          "text": [
            "Hello Shadi\n"
          ]
        }
      ],
      "source": [
        "def welcome(name):\n",
        "  \"\"\"Print welcome note to the output.\"\"\"\n",
        "\n",
        "  print(f\"Hello {name}\")\n",
        "\n",
        "welcome(\"Shadi\")"
      ]
    },
    {
      "cell_type": "code",
      "execution_count": 14,
      "metadata": {
        "id": "AhZe8kM0-sot"
      },
      "outputs": [
        {
          "name": "stdout",
          "output_type": "stream",
          "text": [
            "Help on function welcome in module __main__:\n",
            "\n",
            "welcome(name)\n",
            "    Print welcome note to the output.\n",
            "\n",
            "None\n"
          ]
        }
      ],
      "source": [
        "print(help(welcome))"
      ]
    },
    {
      "cell_type": "markdown",
      "metadata": {
        "id": "63B_YXqY5usE"
      },
      "source": [
        "# Variables and assignment\n",
        "\n"
      ]
    },
    {
      "cell_type": "markdown",
      "metadata": {
        "id": "5v0LLCWhM9sT"
      },
      "source": [
        "* A variable is essentially a named storage location in memory where you can store a value. You can think of it as a label for a piece of data.\n",
        "\n",
        "* Variables allow you to work with data dynamically and make your code more flexible and reusable.\n",
        "\n",
        "* Variables are created when a value is assigned to them. **Assignment** is done using the `=` operator.\n",
        "\n",
        "`Syntax => \"variable Nmae\" \"Assignment Operator\" \"value\"`"
      ]
    },
    {
      "cell_type": "code",
      "execution_count": 15,
      "metadata": {
        "id": "4kbLo_7A7CNU"
      },
      "outputs": [
        {
          "name": "stdout",
          "output_type": "stream",
          "text": [
            "Hello my wonderful students, how are you?\n"
          ]
        }
      ],
      "source": [
        "# How to store your things in a variable\n",
        "message = \"Hello my wonderful students, how are you?\"\n",
        "\n",
        "print(message) # now we are using message variable instead of passing the text directly"
      ]
    },
    {
      "cell_type": "markdown",
      "metadata": {
        "id": "hVlKhF1X613I"
      },
      "source": [
        "**Variable Naming Rules:**\n",
        "\n",
        "1) Variable names must start with a letter (a-z, A-Z), an underscore (_), and numbers (**not at the beginning**).\n",
        "\n",
        "2) Variable names are case-sensitive (i.e. `name` is not the same as `NAME`)\n",
        "\n",
        "3) Variable names can not be Python special keywords (True, class, def, return, etc).\n",
        "\n",
        "4) Variable names can include Special Characters (@, $, - , etc).\n",
        "\n",
        "5) It is preferable that the variable name has a relation to the value."
      ]
    },
    {
      "cell_type": "markdown",
      "metadata": {
        "id": "-B2hlhBS_LxH"
      },
      "source": [
        "**Accepted variable names:**"
      ]
    },
    {
      "cell_type": "code",
      "execution_count": 16,
      "metadata": {
        "id": "K3KECsxk4rh7"
      },
      "outputs": [],
      "source": [
        "myname = \"Shadi\"\n",
        "my_name = \"Shadi\"\n",
        "_my_name = \"Shadi\"\n",
        "myName = \"Shadi\"\n",
        "MYNAME = \"Shadi\"\n",
        "myname1 = \"Shadi\""
      ]
    },
    {
      "cell_type": "markdown",
      "metadata": {
        "id": "upx9hlWO_bP3"
      },
      "source": [
        "**Unaccepted variable names:**"
      ]
    },
    {
      "cell_type": "code",
      "execution_count": 17,
      "metadata": {
        "id": "nCtSuOuF_eY5"
      },
      "outputs": [
        {
          "ename": "SyntaxError",
          "evalue": "invalid decimal literal (633201995.py, line 1)",
          "output_type": "error",
          "traceback": [
            "  \u001b[36mCell\u001b[39m\u001b[36m \u001b[39m\u001b[32mIn[17]\u001b[39m\u001b[32m, line 1\u001b[39m\n\u001b[31m    \u001b[39m\u001b[31m2myname = \"Shadi\"     # Starts with a number\u001b[39m\n    ^\n\u001b[31mSyntaxError\u001b[39m\u001b[31m:\u001b[39m invalid decimal literal\n"
          ]
        }
      ],
      "source": [
        "2myname = \"Shadi\"     # Starts with a number\n",
        "my-name = \"Shadi\"     # Contains a hyphen (Special Character)\n",
        "my name = \"Shadi\"     # Contains a space (Special Character)\n",
        "my_name$ = \"Shadi\"    # Contains a dollar sign (Special Character)\n",
        "for = \"Shadi\"         # Uses a Python keyword\n",
        "True = \"Math\"         # Uses a Python keyword"
      ]
    },
    {
      "cell_type": "code",
      "execution_count": null,
      "metadata": {
        "id": "SB_rzUUcAH9n"
      },
      "outputs": [],
      "source": [
        "# To know the reserved words:\n",
        "help(\"keywords\")"
      ]
    },
    {
      "cell_type": "code",
      "execution_count": null,
      "metadata": {
        "id": "yN74IST8AQLy"
      },
      "outputs": [],
      "source": [
        "# It is preferable that the variable name has a relation to the value.\n",
        "\n",
        "age = 10              # age is a variable holding the integer value 10\n",
        "name = \"Batool\"       # name is a variable holding the string \"Batool\"\n",
        "temperature = 23.5    # temperature is a variable holding the float value 23.5"
      ]
    },
    {
      "cell_type": "markdown",
      "metadata": {
        "id": "h9169qgSAfxa"
      },
      "source": [
        "**Constants**\n",
        "\n",
        "While Python does not have built-in constant types, a common convention is to use uppercase variable names to indicate that a value should not be changed."
      ]
    },
    {
      "cell_type": "code",
      "execution_count": null,
      "metadata": {
        "id": "zpxz1FG7_Fwo"
      },
      "outputs": [],
      "source": [
        "PI = 3.14 #constant"
      ]
    },
    {
      "cell_type": "markdown",
      "metadata": {
        "id": "hSkxOjj-Ap-s"
      },
      "source": [
        "Multiple variables can be created at once. This is most commonly used when unpacking or when a function returnes multiple values."
      ]
    },
    {
      "cell_type": "code",
      "execution_count": null,
      "metadata": {
        "id": "xttwWlXIAq-7"
      },
      "outputs": [],
      "source": [
        "v1, v2, v3 = 1, 2, 3\n",
        "v4, v5 = (4, 5)\n",
        "\n",
        "print(v1)\n",
        "print(v2, v3)\n",
        "print(v4)\n",
        "print(v5)"
      ]
    },
    {
      "cell_type": "markdown",
      "metadata": {
        "id": "2HZRx7T6BBfb"
      },
      "source": [
        "The common cases for naming are:\n",
        "\n",
        "* camelCase\n",
        "* PascalCase\n",
        "* snake_case\n",
        "* UPPERCASE\n",
        "\n",
        "All of theses cases can me used to name a variable. However, PEP 8 style guide recommends using snake_case to name variables."
      ]
    },
    {
      "cell_type": "markdown",
      "metadata": {
        "id": "2VEaAwo8BJmA"
      },
      "source": [
        "\n",
        "\n",
        "---\n",
        "\n",
        "Task #2:\n",
        "Create a height variable\n",
        "\n",
        "\n",
        "---\n",
        "\n"
      ]
    },
    {
      "cell_type": "code",
      "execution_count": 20,
      "metadata": {
        "id": "Jjjb83qLMxWu"
      },
      "outputs": [],
      "source": [
        "height = 178"
      ]
    },
    {
      "cell_type": "markdown",
      "metadata": {
        "id": "otpCvUa7CBqf"
      },
      "source": [
        "# Data Types"
      ]
    },
    {
      "cell_type": "markdown",
      "metadata": {
        "id": "4O8JuUDjDN6N"
      },
      "source": [
        "* Integer\n",
        "\n",
        "  An integer is a whole number, positive or negative, without any decimal point.\n",
        "\n",
        "* Float\n",
        "\n",
        "  A float is a number with a decimal point.\n",
        "\n",
        "* Boolean\n",
        "\n",
        "  A boolean value represents True or False.\n",
        "\n",
        "\n",
        "* String\n",
        "  \n",
        "  A string is a sequence of characters enclosed in quotes."
      ]
    },
    {
      "cell_type": "code",
      "execution_count": null,
      "metadata": {
        "id": "aKqYObNgAzqO"
      },
      "outputs": [],
      "source": [
        "int_var_1 = 1\n",
        "int_var_2 = -1\n",
        "\n",
        "float_var_1 = -2.4\n",
        "float_var_2 = 5.0\n",
        "\n",
        "bool_var_1 = False\n",
        "bool_var_2 = True\n",
        "\n",
        "string_var_1 = \"S\"\n",
        "string_var_2 = 'this is a string'"
      ]
    },
    {
      "cell_type": "code",
      "execution_count": null,
      "metadata": {
        "id": "T6TsUdd5CeG4"
      },
      "outputs": [],
      "source": [
        "print(bool_var_1)\n",
        "print(float_var_2)"
      ]
    },
    {
      "cell_type": "markdown",
      "metadata": {
        "id": "5EHs9VMDDPza"
      },
      "source": [
        "# CRUD Operations"
      ]
    },
    {
      "cell_type": "markdown",
      "metadata": {
        "id": "BhUd9EVzDaU0"
      },
      "source": [
        "## Integer\n",
        "*   Create:  ` age = 30`\n",
        "*   Read:     `print(age)`\n",
        "*   Update:   `age = 31`\n",
        "*   Delete:   `del age`"
      ]
    },
    {
      "cell_type": "code",
      "execution_count": null,
      "metadata": {
        "id": "Pd6Bo5ZZFOkl"
      },
      "outputs": [],
      "source": [
        "number_of_students = 35          # Create\n",
        "print(number_of_students)        # Read\n",
        "\n",
        "number_of_students = 40          # Update\n",
        "print(number_of_students)        # Read\n",
        "\n",
        "del number_of_students           # Delete\n",
        "print(number_of_students)        # Read"
      ]
    },
    {
      "cell_type": "markdown",
      "metadata": {
        "id": "TCYlKXpkEt9H"
      },
      "source": [
        "## Float\n",
        "*   Create:  ` temperature = 99.5`\n",
        "*   Read:     `print(temperature)`\n",
        "*   Update:   `temperature = 100.0`\n",
        "*   Delete:   `del temperature`"
      ]
    },
    {
      "cell_type": "code",
      "execution_count": null,
      "metadata": {
        "id": "PjTJlWzNFGz1"
      },
      "outputs": [],
      "source": [
        "weight = 52.5        # Create\n",
        "print(weight)        # Read\n",
        "\n",
        "weight = 65.8        # Update\n",
        "print(weight)        # Read\n",
        "\n",
        "del weight           # Delete\n",
        "print(weight)        # Read"
      ]
    },
    {
      "cell_type": "markdown",
      "metadata": {
        "id": "rIq8XzTIGAYS"
      },
      "source": [
        "## String\n",
        "*   Create:  ` name = \"Leen\"`\n",
        "*   Read:     `print(name)`\n",
        "*   Update:   `name = \"Lama\"`\n",
        "*   Delete:   `del name`"
      ]
    },
    {
      "cell_type": "code",
      "execution_count": null,
      "metadata": {
        "id": "KE-BlLxRCe3K"
      },
      "outputs": [],
      "source": [
        "city_name = \"Irbid\"     # Create\n",
        "print(city_name)        # Read\n",
        "\n",
        "city_name = \"Amman\"     # Update\n",
        "print(city_name)        # Read\n",
        "\n",
        "del city_name           # Delete\n",
        "print(city_name)        # Read"
      ]
    },
    {
      "cell_type": "markdown",
      "metadata": {
        "id": "NWRBacD7GZir"
      },
      "source": [
        "## Boolean\n",
        "*   Create:  ` is_raining = False`\n",
        "*   Read:     `print(is_raining)`\n",
        "*   Update:   `is_raining = True`\n",
        "*   Delete:   `del is_raining`"
      ]
    },
    {
      "cell_type": "code",
      "execution_count": null,
      "metadata": {
        "id": "WCmTgQKGGs9N"
      },
      "outputs": [],
      "source": [
        "is_happy = False     # Create\n",
        "print(is_happy)        # Read\n",
        "\n",
        "is_happy = True     # Update\n",
        "print(is_happy)        # Read\n",
        "\n",
        "del is_happy           # Delete\n",
        "print(is_happy)        # Read"
      ]
    },
    {
      "cell_type": "markdown",
      "metadata": {
        "id": "NSQcm0zZHo3q"
      },
      "source": [
        "# Casting"
      ]
    },
    {
      "cell_type": "markdown",
      "metadata": {
        "id": "nH3mfeFPKe4L"
      },
      "source": [
        "You can change the type of a value or variable using casting. However, you must be careful as some casting operations result in errors or loss of information."
      ]
    },
    {
      "cell_type": "code",
      "execution_count": null,
      "metadata": {
        "id": "i48LkbEEH_fx"
      },
      "outputs": [],
      "source": [
        "# To find the type of variable we use:\n",
        "type()"
      ]
    },
    {
      "cell_type": "code",
      "execution_count": null,
      "metadata": {
        "id": "sPCmiSkfISsF"
      },
      "outputs": [],
      "source": [
        "x = 10\n",
        "print(type(x))"
      ]
    },
    {
      "cell_type": "code",
      "execution_count": null,
      "metadata": {
        "id": "2SdFXTXLIKfX"
      },
      "outputs": [],
      "source": [
        "Number_of_Students = 32\n",
        "print(\"The Type of 'Number_of_Students' varaiable is\", type(Number_of_Students))"
      ]
    },
    {
      "cell_type": "code",
      "execution_count": null,
      "metadata": {
        "id": "NeIP-kdpIZ6S"
      },
      "outputs": [],
      "source": [
        "int_var = 1\n",
        "print(int_var, type(int_var))\n",
        "\n",
        "int_var = float(int_var)\n",
        "print(int_var, type(int_var))"
      ]
    },
    {
      "cell_type": "code",
      "execution_count": null,
      "metadata": {
        "id": "j-S98wErIcIV"
      },
      "outputs": [],
      "source": [
        "int_to_str = str(1)\n",
        "print(int_to_str, type(int_to_str))"
      ]
    },
    {
      "cell_type": "code",
      "execution_count": null,
      "metadata": {
        "id": "pL6WnerIId-N"
      },
      "outputs": [],
      "source": [
        "str_to_int = int(\"2\")\n",
        "print(str_to_int, type(str_to_int))"
      ]
    },
    {
      "cell_type": "code",
      "execution_count": null,
      "metadata": {
        "id": "TOFGI8W1IhDn"
      },
      "outputs": [],
      "source": [
        "str_to_int_2 = int(\"A\")\n",
        "print(str_to_int_2, type(str_to_int_2))"
      ]
    },
    {
      "cell_type": "code",
      "execution_count": null,
      "metadata": {
        "id": "eEz-5iyyIjll"
      },
      "outputs": [],
      "source": [
        "float_to_int = int(2.7)\n",
        "print(float_to_int, type(float_to_int))"
      ]
    },
    {
      "cell_type": "code",
      "execution_count": null,
      "metadata": {
        "id": "REgB-sBmInWA"
      },
      "outputs": [],
      "source": [
        "bool_to_int = int(True)\n",
        "print(bool_to_int, type(bool_to_int))"
      ]
    },
    {
      "cell_type": "markdown",
      "metadata": {
        "id": "BfUFpRnRMgVH"
      },
      "source": [
        "\n",
        "\n",
        "---\n",
        "\n",
        "Task #3\n",
        "\n",
        " Write a Python program that declares the following variables and prints their types:\n",
        "\n",
        "*   An integer variable called number_of_apples with the value 10.\n",
        "*   A float variable called pi_value with the value 3.14.\n",
        "*   A boolean variable called is_sunny with the value True.\n",
        "*   A string variable called greeting with the value \"Good morning\".\n",
        "\n",
        "\n",
        "---\n",
        "\n"
      ]
    },
    {
      "cell_type": "code",
      "execution_count": 21,
      "metadata": {},
      "outputs": [
        {
          "name": "stdout",
          "output_type": "stream",
          "text": [
            "Type of number_of_apples: <class 'int'>\n",
            "Type of pi_value: <class 'float'>\n",
            "Type of is_sunny: <class 'bool'>\n",
            "Type of greeting: <class 'str'>\n"
          ]
        }
      ],
      "source": [
        "number_of_apples = 10\n",
        "pi_value = 3.14\n",
        "is_sunny = True\n",
        "greeting = \"Good morning\"\n",
        "\n",
        "\n",
        "print(\"Type of number_of_apples:\", type(number_of_apples))\n",
        "print(\"Type of pi_value:\", type(pi_value))\n",
        "print(\"Type of is_sunny:\", type(is_sunny))\n",
        "print(\"Type of greeting:\", type(greeting))\n"
      ]
    },
    {
      "cell_type": "markdown",
      "metadata": {
        "id": "ss9WGTw9JEVM"
      },
      "source": [
        "# Arithmetic operations\n",
        "\n"
      ]
    },
    {
      "cell_type": "markdown",
      "metadata": {
        "id": "z8VNXaWuKZ5q"
      },
      "source": [
        "These operations are performed using arithmetic operators:\n",
        "\n",
        "* Addition `+`\n",
        "* Subtraction `-`\n",
        "* Multiplication `*`\n",
        "* Division `/`  (returns a float)\n",
        "* Modulus `%`\n",
        "* Floor division `//`  (returns an integer)\n",
        "* Exponentiation `**`\n",
        "\n",
        "These operations can be performed on numbers. They can also be performed on variables of numerical values."
      ]
    },
    {
      "cell_type": "code",
      "execution_count": null,
      "metadata": {
        "id": "uTTlXrOSJhZz"
      },
      "outputs": [],
      "source": [
        "num_1, num_2 = 5, 2\n",
        "\n",
        "print(num_1 - num_2)\n",
        "print(num_1 ** num_2)\n",
        "\n",
        "sum = num_1 + num_2\n",
        "\n",
        "print(sum)"
      ]
    },
    {
      "cell_type": "code",
      "execution_count": null,
      "metadata": {
        "id": "YnMkYt9PJxGU"
      },
      "outputs": [],
      "source": [
        "x = 450\n",
        "x += 100   # x = x+100\n",
        "x"
      ]
    },
    {
      "cell_type": "code",
      "execution_count": null,
      "metadata": {
        "id": "ToVaXjlpJ0S4"
      },
      "outputs": [],
      "source": [
        "x = 5\n",
        "x -=  2         # Abbreviation for (x = x - 2)\n",
        "print (x)"
      ]
    },
    {
      "cell_type": "code",
      "execution_count": null,
      "metadata": {
        "id": "mWRKXXiBJ2OV"
      },
      "outputs": [],
      "source": [
        "# x *= 100 --> x = x * 100"
      ]
    },
    {
      "cell_type": "markdown",
      "metadata": {
        "id": "488YRsEJJqXy"
      },
      "source": [
        "# Comparison operations"
      ]
    },
    {
      "cell_type": "markdown",
      "metadata": {
        "id": "BqEqpTSWKkeg"
      },
      "source": [
        "The result from these operations is a boolean value, and they are performed by the use of the following operators:\n",
        "\n",
        "* Equal `==`\n",
        "* Not equal `!=`\n",
        "* Greater than `>`\n",
        "* Less than `<`\n",
        "* Greater than or equal to `>=`\n",
        "* Less than or equal to `<=`\n",
        "\n",
        "These operations can be performed on numbers. They can also be performed on variables of numerical values."
      ]
    },
    {
      "cell_type": "code",
      "execution_count": null,
      "metadata": {
        "id": "OcKBlsbBKJQs"
      },
      "outputs": [],
      "source": [
        "print(5 == 5)   # Equal operator                       prints: True\n",
        "print(5 != 5)   # Not equal operator                   prints: False\n",
        "print(5 <  6)   # Less than operator                   prints: True\n",
        "print(5 >  4)   # Greater than operator                prints: True\n",
        "print(5 <= 5)   # Less than or equal to operator       prints: True\n",
        "print(5 >= 6)   # Greater than or equal to operator    prints: False"
      ]
    },
    {
      "cell_type": "code",
      "execution_count": null,
      "metadata": {
        "id": "_9uqvgN3KMsa"
      },
      "outputs": [],
      "source": [
        "num_1, num_2 = 3.9, 12.1\n",
        "\n",
        "print(num_1 < num_2)\n",
        "print(num_1 == num_2)\n",
        "\n",
        "result = num_1 >= num_2\n",
        "\n",
        "print(result)"
      ]
    },
    {
      "cell_type": "markdown",
      "metadata": {
        "id": "r_nlALVvKNyt"
      },
      "source": [
        "# Logic operations\n",
        "\n"
      ]
    },
    {
      "cell_type": "markdown",
      "metadata": {
        "id": "4Z7J-LCXKonp"
      },
      "source": [
        "The logic operators are three:\n",
        "\n",
        "* `and`\n",
        "* `or`\n",
        "* `not`\n",
        "\n",
        "These operators are used with boolean values and return a result of True or False according to the following truth tables:\n",
        "\n",
        "| Operator| First value | Second value | Result |\n",
        "|---|---|---|---|\n",
        "| `and` | True | True | True |\n",
        "| | True | False | False |\n",
        "| | False | True | False |\n",
        "| | False | False | False |\n",
        "| `or` | True | True | True |\n",
        "| | True | False | True |\n",
        "| | False | True | True |\n",
        "| | False | False | False |\n",
        "| `not` | True | - | False |\n",
        "| | False | - | True |"
      ]
    },
    {
      "cell_type": "code",
      "execution_count": null,
      "metadata": {
        "id": "Rxa9yitGKT27"
      },
      "outputs": [],
      "source": [
        "# and\n",
        "print(True and True)\n",
        "print(True and False)\n",
        "\n",
        "# or\n",
        "print(False or False)\n",
        "print(False or True)\n",
        "\n",
        "# not\n",
        "print(not True)"
      ]
    },
    {
      "cell_type": "code",
      "execution_count": null,
      "metadata": {
        "id": "OyOcu3BAK-YK"
      },
      "outputs": [],
      "source": [
        "years_of_experience = 1  # try: 1, 7, 2, 5, 3, 4.5\n",
        "\n",
        "min = 2\n",
        "max = 5\n",
        "\n",
        "fit_for_job = years_of_experience >= min and years_of_experience <= max\n",
        "\n",
        "print(\"Fit for job:\", fit_for_job)"
      ]
    },
    {
      "cell_type": "markdown",
      "metadata": {
        "id": "u_hMiFg8O92t"
      },
      "source": [
        "# Order of Operations"
      ]
    },
    {
      "cell_type": "markdown",
      "metadata": {
        "id": "UdV49d5CPOiA"
      },
      "source": [
        "The order of operations in Python is somewhat similar to math. The introduced operators above have the following order of priorities:\n",
        "\n",
        "1. Parentheses `( )`\n",
        "2. Exponentiation `**`\n",
        "3. Multiplication, division, floor division, and modulus `*` `/` `//` `%`\n",
        "4. Addition and subtraction `+` `-`\n",
        "5. Comparisons `==` `!=` `>` `>=` `<` `<=`\n",
        "6. Logical `not`\n",
        "7. Logical `and`\n",
        "8. Logical `or`\n"
      ]
    },
    {
      "cell_type": "code",
      "execution_count": null,
      "metadata": {
        "id": "SCHXJkwOQqr8"
      },
      "outputs": [],
      "source": [
        "2 ** (1 + 1) + 1 * 2 < 7 and not 2 != 2 or not True"
      ]
    },
    {
      "cell_type": "markdown",
      "metadata": {
        "id": "RTDZt-RELRln"
      },
      "source": [
        "# User input\n",
        "\n"
      ]
    },
    {
      "cell_type": "markdown",
      "metadata": {
        "id": "XB5f116QLari"
      },
      "source": [
        "* It is important to write programs that deal with input data. Input data might come from different sources, including user input, database, file system, among others.\n",
        "\n",
        "* Here we will deal with the simple case of processing input from the user.\n",
        "* The input function reads a line from the user and returns it as a string."
      ]
    },
    {
      "cell_type": "code",
      "execution_count": null,
      "metadata": {
        "id": "LsTpDuliLiuk"
      },
      "outputs": [],
      "source": [
        "salary = input(\"Enter your salary: \")\n",
        "print(salary)\n",
        "print(type(salary))"
      ]
    },
    {
      "cell_type": "code",
      "execution_count": null,
      "metadata": {
        "id": "kNVB24TbLssd"
      },
      "outputs": [],
      "source": [
        "salary = int(input(\"Enter your salary: \"))\n",
        "print(salary + 100)"
      ]
    },
    {
      "cell_type": "code",
      "execution_count": null,
      "metadata": {
        "id": "TGi70jRhLwAm"
      },
      "outputs": [],
      "source": [
        "salary = input(\"Enter your salary: \")\n",
        "print(int(salary) + 100)"
      ]
    },
    {
      "cell_type": "code",
      "execution_count": null,
      "metadata": {
        "id": "cj6B_bcpL3rJ"
      },
      "outputs": [],
      "source": [
        "Name = input(\"Enter your name : \")\n",
        "Salary = input(\"Enter your salary : \")\n",
        "update_salary = int(Salary) + 100\n",
        "print(\"my name is\", Name, \"and salary\", update_salary)"
      ]
    },
    {
      "cell_type": "markdown",
      "metadata": {
        "id": "3lCqsESNRrG3"
      },
      "source": [
        "\n",
        "\n",
        "---\n",
        "\n",
        "Task #5:\n",
        "\n",
        "Write a program that asks the user for their name and age, and then prints out a message addressed to them that tells them how many years they have until they turn 100.\n",
        "\n",
        "---\n",
        "\n"
      ]
    },
    {
      "cell_type": "code",
      "execution_count": 23,
      "metadata": {
        "id": "syEEWrLMR3kS"
      },
      "outputs": [
        {
          "name": "stdout",
          "output_type": "stream",
          "text": [
            "Hello, Ward! You will turn 100 years old in 77 years.\n"
          ]
        }
      ],
      "source": [
        "name = input(\"What is your name? \")\n",
        "age = int(input(\"How old are you? \"))\n",
        "\n",
        "years_until_100 = 100 - age\n",
        "\n",
        "print(f\"Hello, {name}! You will turn 100 years old in {years_until_100} years.\")"
      ]
    },
    {
      "cell_type": "markdown",
      "metadata": {
        "id": "baavYg71oS4n"
      },
      "source": [
        "# Good Job 🚀"
      ]
    }
  ],
  "metadata": {
    "colab": {
      "collapsed_sections": [
        "lMrwLJQL5vwY",
        "JFBDGE5T9RPG",
        "63B_YXqY5usE",
        "otpCvUa7CBqf",
        "5EHs9VMDDPza",
        "NSQcm0zZHo3q",
        "ss9WGTw9JEVM",
        "488YRsEJJqXy",
        "r_nlALVvKNyt",
        "u_hMiFg8O92t",
        "RTDZt-RELRln"
      ],
      "provenance": []
    },
    "kernelspec": {
      "display_name": "Python 3",
      "name": "python3"
    },
    "language_info": {
      "codemirror_mode": {
        "name": "ipython",
        "version": 3
      },
      "file_extension": ".py",
      "mimetype": "text/x-python",
      "name": "python",
      "nbconvert_exporter": "python",
      "pygments_lexer": "ipython3",
      "version": "3.13.5"
    }
  },
  "nbformat": 4,
  "nbformat_minor": 0
}
